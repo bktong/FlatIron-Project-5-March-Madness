{
 "cells": [
  {
   "cell_type": "markdown",
   "metadata": {},
   "source": [
    "This notebook is meant to prep the provided data for our baseline model.   Our goal is to tune our initial parameters and run a random forest to find our optimal  "
   ]
  },
  {
   "cell_type": "code",
   "execution_count": 1,
   "metadata": {},
   "outputs": [],
   "source": [
    "# importing pertinent libraries\n",
    "\n",
    "import pandas as pd\n",
    "import numpy as np\n",
    "\n",
    "import matplotlib.pyplot as plt\n",
    "%matplotlib inline\n",
    "import seaborn as sns\n",
    "carolinaBlue = 'deepskyblue'  # because d00k sucks\n",
    "\n",
    "folder = \"2020DataFiles/2020-Mens-Data/MDataFiles_Stage1/\""
   ]
  },
  {
   "cell_type": "code",
   "execution_count": 2,
   "metadata": {},
   "outputs": [],
   "source": [
    "TResults_df = pd.read_csv(folder+\"MNCAATourneyDetailedResults.csv\")\n",
    "# get scoring margign\n",
    "TResults_df['margin'] = TResults_df['WScore'] - TResults_df['LScore']"
   ]
  },
  {
   "cell_type": "code",
   "execution_count": 3,
   "metadata": {},
   "outputs": [],
   "source": [
    "RResults_df = pd.read_csv(folder+\"MRegularSeasonDetailedResults.csv\")\n",
    "RResults_df['margin'] = RResults_df['WScore'] - RResults_df['LScore']"
   ]
  },
  {
   "cell_type": "code",
   "execution_count": 12,
   "metadata": {},
   "outputs": [
    {
     "data": {
      "text/plain": [
       "<matplotlib.axes._subplots.AxesSubplot at 0xa07a330>"
      ]
     },
     "execution_count": 12,
     "metadata": {},
     "output_type": "execute_result"
    },
    {
     "data": {
      "image/png": "[encoded data removed]",
      "text/plain": [
       "<Figure size 432x288 with 1 Axes>"
      ]
     },
     "metadata": {
      "needs_background": "light"
     },
     "output_type": "display_data"
    }
   ],
   "source": [
    "pd.value_counts(TResults_df['margin']).plot(kind='bar')\n"
   ]
  },
  {
   "cell_type": "code",
   "execution_count": 10,
   "metadata": {},
   "outputs": [
    {
     "data": {
      "text/html": [
       "<div>\n",
       "<style scoped>\n",
       "    .dataframe tbody tr th:only-of-type {\n",
       "        vertical-align: middle;\n",
       "    }\n",
       "\n",
       "    .dataframe tbody tr th {\n",
       "        vertical-align: top;\n",
       "    }\n",
       "\n",
       "    .dataframe thead th {\n",
       "        text-align: right;\n",
       "    }\n",
       "</style>\n",
       "<table border=\"1\" class=\"dataframe\">\n",
       "  <thead>\n",
       "    <tr style=\"text-align: right;\">\n",
       "      <th></th>\n",
       "      <th>Season</th>\n",
       "      <th>RankingDayNum</th>\n",
       "      <th>SystemName</th>\n",
       "      <th>TeamID</th>\n",
       "      <th>OrdinalRank</th>\n",
       "    </tr>\n",
       "  </thead>\n",
       "  <tbody>\n",
       "    <tr>\n",
       "      <th>3200201</th>\n",
       "      <td>2018</td>\n",
       "      <td>16</td>\n",
       "      <td>AP</td>\n",
       "      <td>1112</td>\n",
       "      <td>3</td>\n",
       "    </tr>\n",
       "    <tr>\n",
       "      <th>3200202</th>\n",
       "      <td>2018</td>\n",
       "      <td>16</td>\n",
       "      <td>AP</td>\n",
       "      <td>1124</td>\n",
       "      <td>25</td>\n",
       "    </tr>\n",
       "    <tr>\n",
       "      <th>3200203</th>\n",
       "      <td>2018</td>\n",
       "      <td>16</td>\n",
       "      <td>AP</td>\n",
       "      <td>1153</td>\n",
       "      <td>12</td>\n",
       "    </tr>\n",
       "    <tr>\n",
       "      <th>3200204</th>\n",
       "      <td>2018</td>\n",
       "      <td>16</td>\n",
       "      <td>AP</td>\n",
       "      <td>1181</td>\n",
       "      <td>1</td>\n",
       "    </tr>\n",
       "    <tr>\n",
       "      <th>3200205</th>\n",
       "      <td>2018</td>\n",
       "      <td>16</td>\n",
       "      <td>AP</td>\n",
       "      <td>1196</td>\n",
       "      <td>8</td>\n",
       "    </tr>\n",
       "  </tbody>\n",
       "</table>\n",
       "</div>"
      ],
      "text/plain": [
       "         Season  RankingDayNum SystemName  TeamID  OrdinalRank\n",
       "3200201    2018             16         AP    1112            3\n",
       "3200202    2018             16         AP    1124           25\n",
       "3200203    2018             16         AP    1153           12\n",
       "3200204    2018             16         AP    1181            1\n",
       "3200205    2018             16         AP    1196            8"
      ]
     },
     "execution_count": 10,
     "metadata": {},
     "output_type": "execute_result"
    }
   ],
   "source": [
    "Massey = pd.read_csv(folder+\"MMasseyOrdinals.csv\")\n",
    "Massey[Massey['Season']==2018].head()"
   ]
  },
  {
   "cell_type": "code",
   "execution_count": null,
   "metadata": {},
   "outputs": [],
   "source": []
  }
 ],
 "metadata": {
  "kernelspec": {
   "display_name": "Python 3",
   "language": "python",
   "name": "python3"
  },
  "language_info": {
   "codemirror_mode": {
    "name": "ipython",
    "version": 3
   },
   "file_extension": ".py",
   "mimetype": "text/x-python",
   "name": "python",
   "nbconvert_exporter": "python",
   "pygments_lexer": "ipython3",
   "version": "3.7.3"
  }
 },
 "nbformat": 4,
 "nbformat_minor": 2
}
