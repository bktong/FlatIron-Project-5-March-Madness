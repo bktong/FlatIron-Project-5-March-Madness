{
 "cells": [
  {
   "cell_type": "markdown",
   "metadata": {},
   "source": [
    "Scoring Tournament Predictions"
   ]
  },
  {
   "cell_type": "code",
   "execution_count": 34,
   "metadata": {},
   "outputs": [],
   "source": [
    "import pandas as pd\n",
    "from sklearn.metrics import log_loss\n",
    "import pickle"
   ]
  },
  {
   "cell_type": "code",
   "execution_count": 6,
   "metadata": {},
   "outputs": [],
   "source": [
    "results = pd.read_csv('2020DataFiles/2020-Mens-Data/MDataFiles_Stage1/MNCAATourneyCompactResults.csv')"
   ]
  },
  {
   "cell_type": "code",
   "execution_count": 3,
   "metadata": {},
   "outputs": [
    {
     "data": {
      "text/plain": [
       "0.6931471805599453"
      ]
     },
     "execution_count": 3,
     "metadata": {},
     "output_type": "execute_result"
    }
   ],
   "source": [
    "# Running our LogLoss equation from Kaggle on a test set\n",
    "\n",
    "test_label = [1,1,0,0,1,1,0,0]\n",
    "test_predicted = [.5,.5,.5,.5,.5,.5,.5,.5]\n",
    "\n",
    "log_loss(test_label, test_predicted, eps = 1e-15)"
   ]
  },
  {
   "cell_type": "markdown",
   "metadata": {},
   "source": [
    "Prediction File Format\n",
    "\n",
    "line by line predictions are passed in with the following format.\n",
    "[4digitSeason_WinningTeamID_LosingTeamID, confidence]\n",
    "\n",
    "each season and team ID are 4 digit numbers in string format\n",
    "\n",
    "For Example:\n",
    "\n",
    "[2020_1014_1052, .60] translates into \"We are 60% confident team 1014 beats team 1052.\" \n"
   ]
  },
  {
   "cell_type": "code",
   "execution_count": 117,
   "metadata": {},
   "outputs": [],
   "source": [
    "# create function to parse file format into prediction labels.\n",
    "\n",
    "def translate_prediction(single_prediction):\n",
    "    '''\n",
    "        Function takes in a single prediction line and returns a list with 2 values \n",
    "        with format [boolean prediction_is_correct, confidence]\n",
    "        \n",
    "    '''\n",
    "    s, p = single_prediction\n",
    "    year, team1, team2 = map(int, s.split('_'))\n",
    "    temp_df = results.loc[(results['Season'] == year) & \n",
    "                      (((results['WTeamID'] == team1) & (results['LTeamID'] == team2)) |\n",
    "                      ((results['WTeamID'] == team2) & (results['LTeamID'] == team1)))\n",
    "                        ]\n",
    "    try:\n",
    "        if temp_df['WTeamID'].values[0] == team1:\n",
    "            return ([1, p])\n",
    "        else:\n",
    "            return ([0, p])                \n",
    "\n",
    "    except:\n",
    "        #game doesn't happen\n",
    "        pass"
   ]
  },
  {
   "cell_type": "code",
   "execution_count": 68,
   "metadata": {},
   "outputs": [
    {
     "data": {
      "text/plain": [
       "[1, 0.6]"
      ]
     },
     "execution_count": 68,
     "metadata": {},
     "output_type": "execute_result"
    }
   ],
   "source": [
    "# testing out our function.\n",
    "\n",
    "prediction = [\"1985_1116_1234\", 0.6]\n",
    "translate_prediction(prediction)"
   ]
  },
  {
   "cell_type": "code",
   "execution_count": 35,
   "metadata": {},
   "outputs": [],
   "source": [
    "output_2019 = pickle.load( open( \"CreatedData/output_2019.data\", \"rb\" ) )"
   ]
  },
  {
   "cell_type": "code",
   "execution_count": 124,
   "metadata": {},
   "outputs": [],
   "source": [
    "predictions = []\n",
    "for i in output_2019:\n",
    "    x = translate_prediction(i)\n",
    "    if x is not None:\n",
    "        predictions.append(x)"
   ]
  },
  {
   "cell_type": "code",
   "execution_count": 130,
   "metadata": {},
   "outputs": [
    {
     "data": {
      "text/html": [
       "<div>\n",
       "<style scoped>\n",
       "    .dataframe tbody tr th:only-of-type {\n",
       "        vertical-align: middle;\n",
       "    }\n",
       "\n",
       "    .dataframe tbody tr th {\n",
       "        vertical-align: top;\n",
       "    }\n",
       "\n",
       "    .dataframe thead th {\n",
       "        text-align: right;\n",
       "    }\n",
       "</style>\n",
       "<table border=\"1\" class=\"dataframe\">\n",
       "  <thead>\n",
       "    <tr style=\"text-align: right;\">\n",
       "      <th></th>\n",
       "      <th>correct</th>\n",
       "      <th>confidence</th>\n",
       "    </tr>\n",
       "  </thead>\n",
       "  <tbody>\n",
       "    <tr>\n",
       "      <th>0</th>\n",
       "      <td>1</td>\n",
       "      <td>0.5</td>\n",
       "    </tr>\n",
       "    <tr>\n",
       "      <th>1</th>\n",
       "      <td>0</td>\n",
       "      <td>0.5</td>\n",
       "    </tr>\n",
       "    <tr>\n",
       "      <th>2</th>\n",
       "      <td>0</td>\n",
       "      <td>0.5</td>\n",
       "    </tr>\n",
       "    <tr>\n",
       "      <th>3</th>\n",
       "      <td>0</td>\n",
       "      <td>0.5</td>\n",
       "    </tr>\n",
       "    <tr>\n",
       "      <th>4</th>\n",
       "      <td>0</td>\n",
       "      <td>0.5</td>\n",
       "    </tr>\n",
       "  </tbody>\n",
       "</table>\n",
       "</div>"
      ],
      "text/plain": [
       "   correct  confidence\n",
       "0        1         0.5\n",
       "1        0         0.5\n",
       "2        0         0.5\n",
       "3        0         0.5\n",
       "4        0         0.5"
      ]
     },
     "execution_count": 130,
     "metadata": {},
     "output_type": "execute_result"
    }
   ],
   "source": [
    "\n",
    "df_win = pd.DataFrame(predictions,  columns=['correct', 'confidence'])\n",
    "df_win.head()"
   ]
  },
  {
   "cell_type": "code",
   "execution_count": 131,
   "metadata": {},
   "outputs": [
    {
     "data": {
      "text/plain": [
       "0.6931471805599454"
      ]
     },
     "execution_count": 131,
     "metadata": {},
     "output_type": "execute_result"
    }
   ],
   "source": [
    "log_loss(df_win['correct'], df_win['confidence'], eps = 1e-15)"
   ]
  },
  {
   "cell_type": "code",
   "execution_count": null,
   "metadata": {},
   "outputs": [],
   "source": []
  }
 ],
 "metadata": {
  "kernelspec": {
   "display_name": "Python 3",
   "language": "python",
   "name": "python3"
  },
  "language_info": {
   "codemirror_mode": {
    "name": "ipython",
    "version": 3
   },
   "file_extension": ".py",
   "mimetype": "text/x-python",
   "name": "python",
   "nbconvert_exporter": "python",
   "pygments_lexer": "ipython3",
   "version": "3.7.3"
  }
 },
 "nbformat": 4,
 "nbformat_minor": 2
}
