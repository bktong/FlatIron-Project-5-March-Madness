{
 "cells": [
  {
   "cell_type": "markdown",
   "metadata": {},
   "source": [
    "# Modeling:\n",
    "\n",
    "\n",
    "We used this notebook the run the models.  As some of our more extensive models took a lot of time to process, we ported our optimal parameter to a different notebook so we wouldn't need to run this notebook again.\n",
    "\n",
    "A quick summary was our optimal parameters returned the following confusion matrix, fscore and accuracy\n",
    "\n",
    "[21447]    [551]\n",
    "\n",
    "[564]    [21748]\n",
    " \n",
    " \n",
    "              precision    recall  f1-score   support\n",
    "\n",
    "           0       0.97      0.97      0.97     21998\n",
    "           1       0.98      0.97      0.98     22312\n",
    "\n",
    "    accuracy                           0.97     44310\n",
    "   macro avg       0.97      0.97      0.97     44310\n",
    "weighted avg       0.97      0.97      0.97     44310\n"
   ]
  },
  {
   "cell_type": "code",
   "execution_count": 1,
   "metadata": {},
   "outputs": [],
   "source": [
    "# imports\n",
    "\n",
    "import pandas as pd\n",
    "import matplotlib.pyplot as plt\n",
    "import numpy as np\n",
    "%matplotlib inline\n",
    "import seaborn as sns\n",
    "from itertools import combinations\n",
    "carolinaBlue = 'deepskyblue'  # because d00k sucks"
   ]
  },
  {
   "cell_type": "code",
   "execution_count": 2,
   "metadata": {},
   "outputs": [],
   "source": [
    "# importing our data\n",
    "folder = \"CreatedData/\"\n",
    "df = pd.read_csv(folder + \"RegSeason_all.csv\")"
   ]
  },
  {
   "cell_type": "code",
   "execution_count": 3,
   "metadata": {},
   "outputs": [],
   "source": [
    "# modeling libraries\n",
    "\n",
    "from sklearn.metrics import accuracy_score, f1_score, confusion_matrix\n",
    "from sklearn.metrics import r2_score, mean_squared_error, classification_report\n",
    "from sklearn.model_selection import train_test_split\n",
    "from sklearn.utils import resample\n",
    "from sklearn.preprocessing import PolynomialFeatures\n",
    "from sklearn.preprocessing import StandardScaler\n",
    "\n",
    "from sklearn.neighbors import KNeighborsClassifier\n",
    "from sklearn.ensemble import RandomForestClassifier\n",
    "from sklearn.ensemble import BaggingClassifier\n",
    "from sklearn.ensemble import GradientBoostingRegressor\n",
    "from sklearn.ensemble import AdaBoostClassifier\n",
    "\n",
    "from sklearn.tree import DecisionTreeClassifier\n",
    "from sklearn.tree import DecisionTreeRegressor\n",
    "\n",
    "from sklearn.model_selection import GridSearchCV\n",
    "from sklearn.model_selection import cross_val_score\n",
    "from sklearn.model_selection import RandomizedSearchCV\n",
    "\n",
    "from sklearn.linear_model import LogisticRegression\n",
    "\n",
    "from datetime import datetime"
   ]
  },
  {
   "cell_type": "markdown",
   "metadata": {},
   "source": [
    "# Split our data for Test/Train"
   ]
  },
  {
   "cell_type": "code",
   "execution_count": 4,
   "metadata": {},
   "outputs": [
    {
     "data": {
      "text/plain": [
       "(177238, 34)"
      ]
     },
     "execution_count": 4,
     "metadata": {},
     "output_type": "execute_result"
    }
   ],
   "source": [
    "# how much are we really working with here?\n",
    "\n",
    "df.shape"
   ]
  },
  {
   "cell_type": "code",
   "execution_count": 5,
   "metadata": {},
   "outputs": [
    {
     "data": {
      "text/plain": [
       "Index(['Season', 'TeamID', 'Score', 'NumOT', 'FGM', 'FGA', 'FGM3', 'FGA3',\n",
       "       'FTM', 'FTA', 'OR', 'DR', 'Ast', 'TO', 'Stl', 'Blk', 'PF', 'isTourney',\n",
       "       'Possessions', 'Shooting_Eff', 'EffectiveFGP', 'FGP3', 'Off_Rating',\n",
       "       'Def_Rating', 'Off_RBP', 'Def_RBP', 'Tot_RBP', 'TO_Rate', 'FTP',\n",
       "       'Ast_Ratio', 'Blk_Ratio', 'Stl_Ratio', 'Rtg_Margin', 'win'],\n",
       "      dtype='object')"
      ]
     },
     "execution_count": 5,
     "metadata": {},
     "output_type": "execute_result"
    }
   ],
   "source": [
    "df.columns"
   ]
  },
  {
   "cell_type": "code",
   "execution_count": 6,
   "metadata": {},
   "outputs": [
    {
     "data": {
      "text/plain": [
       "TO              0\n",
       "Stl             0\n",
       "Blk             0\n",
       "PF              0\n",
       "isTourney       0\n",
       "Possessions     0\n",
       "Shooting_Eff    0\n",
       "EffectiveFGP    0\n",
       "FGP3            0\n",
       "Off_Rating      0\n",
       "Def_Rating      0\n",
       "Off_RBP         0\n",
       "Def_RBP         0\n",
       "Tot_RBP         0\n",
       "TO_Rate         0\n",
       "Ast_Ratio       0\n",
       "Blk_Ratio       0\n",
       "Stl_Ratio       0\n",
       "dtype: int64"
      ]
     },
     "execution_count": 6,
     "metadata": {},
     "output_type": "execute_result"
    }
   ],
   "source": [
    "# Train_test_split\n",
    "\n",
    "\n",
    "# we are dropping the basic statitistics which ran with an accuracy roughly around 70-75%.\n",
    "# instead we'll be using the advance stats calculated.\n",
    "\n",
    "y = df['win']\n",
    "X = df.drop(columns = ['Season', 'TeamID', 'Score', 'NumOT', 'FGM', 'FGA', 'FGM3', 'FGA3',\n",
    "                                'FTM', 'FTA', 'FTP','OR', 'DR', 'Ast', 'win', 'Rtg_Margin'])\n",
    "\n",
    "# making sure we don't have any of those NaNs still.  \n",
    "# also of note.  If you are using Free Throw percentages as a key feature, there are 15\n",
    "# games where a team has attempted zero Free Throws.\n",
    "\n",
    "X.isna().sum()"
   ]
  },
  {
   "cell_type": "code",
   "execution_count": 7,
   "metadata": {},
   "outputs": [
    {
     "data": {
      "text/plain": [
       "Index(['TO', 'Stl', 'Blk', 'PF', 'isTourney', 'Possessions', 'Shooting_Eff',\n",
       "       'EffectiveFGP', 'FGP3', 'Off_Rating', 'Def_Rating', 'Off_RBP',\n",
       "       'Def_RBP', 'Tot_RBP', 'TO_Rate', 'Ast_Ratio', 'Blk_Ratio', 'Stl_Ratio'],\n",
       "      dtype='object')"
      ]
     },
     "execution_count": 7,
     "metadata": {},
     "output_type": "execute_result"
    }
   ],
   "source": [
    "# my favorite way to drop columns is to print them first, and then copy/paste them when we drop it.\n",
    "X.columns"
   ]
  },
  {
   "cell_type": "code",
   "execution_count": 8,
   "metadata": {},
   "outputs": [],
   "source": [
    "# train/test/split, using random_state of 23 so we can repeat our results.\n",
    "\n",
    "X_train, X_test, y_train, y_test = train_test_split(X, y, test_size=0.25, random_state=23)"
   ]
  },
  {
   "cell_type": "markdown",
   "metadata": {},
   "source": [
    "# Functions:"
   ]
  },
  {
   "cell_type": "code",
   "execution_count": 9,
   "metadata": {},
   "outputs": [],
   "source": [
    "# According to basic Decision Tree, these are the important features.\n",
    "\n",
    "def plot_feature_importances(model):\n",
    "\n",
    "    ''' plots a horizontal bar chart using the feature_imporances_ /\n",
    "    object of the model being run.  Makes it easy for us to visualize /\n",
    "    our most importat features. '''    \n",
    "\n",
    "    n_features = X_train.shape[1]\n",
    "    plt.figure(figsize=(8,8))\n",
    "    plt.barh(range(n_features), model.feature_importances_, align='center') \n",
    "    plt.yticks(np.arange(n_features), X_train.columns.values) \n",
    "    plt.title ('Ranking our Features')\n",
    "    plt.xlabel('Feature importance')\n",
    "    plt.ylabel('Feature')\n"
   ]
  },
  {
   "cell_type": "markdown",
   "metadata": {},
   "source": [
    "# Decision Tree\n",
    "\n",
    "Our first model up is the decision tree."
   ]
  },
  {
   "cell_type": "code",
   "execution_count": 10,
   "metadata": {},
   "outputs": [],
   "source": [
    "tree_clf = DecisionTreeClassifier(criterion = 'gini', max_depth=5)\n",
    "tree_clf.fit(X_train, y_train)\n",
    "tree_clf.feature_importances_\n",
    "\n",
    "dt_cv_score = cross_val_score(tree_clf, X_train, y_train, cv=3)\n",
    "mean_dt_cv_score = np.mean(dt_cv_score)"
   ]
  },
  {
   "cell_type": "code",
   "execution_count": 11,
   "metadata": {},
   "outputs": [
    {
     "data": {
      "image/png": "[encoded data removed]",
      "text/plain": [
       "<Figure size 576x576 with 1 Axes>"
      ]
     },
     "metadata": {
      "needs_background": "light"
     },
     "output_type": "display_data"
    }
   ],
   "source": [
    "plot_feature_importances(tree_clf)"
   ]
  },
  {
   "cell_type": "code",
   "execution_count": 12,
   "metadata": {},
   "outputs": [
    {
     "name": "stdout",
     "output_type": "stream",
     "text": [
      "[[21359   639]\n",
      " [  706 21606]]\n",
      "              precision    recall  f1-score   support\n",
      "\n",
      "           0       0.97      0.97      0.97     21998\n",
      "           1       0.97      0.97      0.97     22312\n",
      "\n",
      "    accuracy                           0.97     44310\n",
      "   macro avg       0.97      0.97      0.97     44310\n",
      "weighted avg       0.97      0.97      0.97     44310\n",
      "\n"
     ]
    }
   ],
   "source": [
    "# Test set predictions\n",
    "pred = tree_clf.predict(X_test)\n",
    "\n",
    "# Confusion matrix and classification report\n",
    "print(confusion_matrix(y_test, pred))\n",
    "print(classification_report(y_test, pred))"
   ]
  },
  {
   "cell_type": "code",
   "execution_count": 13,
   "metadata": {},
   "outputs": [
    {
     "name": "stdout",
     "output_type": "stream",
     "text": [
      "Testing Accuracy for Decision Tree Classifier: 96.96%\n"
     ]
    }
   ],
   "source": [
    "print(\"Testing Accuracy for Decision Tree Classifier: {:.4}%\".format(accuracy_score(y_test, pred) * 100))"
   ]
  },
  {
   "cell_type": "code",
   "execution_count": 14,
   "metadata": {},
   "outputs": [],
   "source": [
    "def DTC():\n",
    "    \n",
    "    '''\n",
    "    runs a DecisionTreeClassifier on the test data\n",
    "    returns accuracy and predictions given the classifier\n",
    "    \n",
    "    '''\n",
    "    tree_clf = DecisionTreeClassifier(criterion = 'gini', max_depth=5)\n",
    "    tree_clf.fit(X_train, y_train)\n",
    "    tree_clf.feature_importances_\n",
    "\n",
    "    dt_cv_score = cross_val_score(tree_clf, X_train, y_train, cv=3)\n",
    "    mean_dt_cv_score = np.mean(dt_cv_score)\n",
    "    \n",
    "    pred = tree_clf.predict(X_test)\n",
    "    \n",
    "    return(round(accuracy_score(y_test, pred) * 100, 4))\n"
   ]
  },
  {
   "cell_type": "markdown",
   "metadata": {},
   "source": [
    "# Bagged Trees"
   ]
  },
  {
   "cell_type": "code",
   "execution_count": 15,
   "metadata": {},
   "outputs": [
    {
     "data": {
      "text/plain": [
       "BaggingClassifier(base_estimator=DecisionTreeClassifier(class_weight=None,\n",
       "                                                        criterion='gini',\n",
       "                                                        max_depth=5,\n",
       "                                                        max_features=None,\n",
       "                                                        max_leaf_nodes=None,\n",
       "                                                        min_impurity_decrease=0.0,\n",
       "                                                        min_impurity_split=None,\n",
       "                                                        min_samples_leaf=1,\n",
       "                                                        min_samples_split=2,\n",
       "                                                        min_weight_fraction_leaf=0.0,\n",
       "                                                        presort=False,\n",
       "                                                        random_state=None,\n",
       "                                                        splitter='best'),\n",
       "                  bootstrap=True, bootstrap_features=False, max_features=1.0,\n",
       "                  max_samples=1.0, n_estimators=20, n_jobs=None,\n",
       "                  oob_score=False, random_state=None, verbose=0,\n",
       "                  warm_start=False)"
      ]
     },
     "execution_count": 15,
     "metadata": {},
     "output_type": "execute_result"
    }
   ],
   "source": [
    "bagged_tree =  BaggingClassifier(DecisionTreeClassifier(criterion='gini', max_depth=5), \n",
    "                                 n_estimators=20)\n",
    "bagged_tree.fit(X_train, y_train)"
   ]
  },
  {
   "cell_type": "code",
   "execution_count": 16,
   "metadata": {},
   "outputs": [
    {
     "name": "stdout",
     "output_type": "stream",
     "text": [
      "[[21461   537]\n",
      " [  593 21719]]\n",
      "              precision    recall  f1-score   support\n",
      "\n",
      "           0       0.97      0.98      0.97     21998\n",
      "           1       0.98      0.97      0.97     22312\n",
      "\n",
      "    accuracy                           0.97     44310\n",
      "   macro avg       0.97      0.97      0.97     44310\n",
      "weighted avg       0.97      0.97      0.97     44310\n",
      "\n"
     ]
    }
   ],
   "source": [
    "# Test set predictions\n",
    "treepred = bagged_tree.predict(X_test)\n",
    "\n",
    "# Confusion matrix and classification report\n",
    "print(confusion_matrix(y_test, treepred))\n",
    "print(classification_report(y_test, treepred))"
   ]
  },
  {
   "cell_type": "code",
   "execution_count": 17,
   "metadata": {},
   "outputs": [
    {
     "name": "stdout",
     "output_type": "stream",
     "text": [
      "Testing Accuracy for Bagged Tree: 97.45%\n"
     ]
    }
   ],
   "source": [
    "print(\"Testing Accuracy for Bagged Tree: {:.4}%\".format(accuracy_score(y_test, treepred) * 100))"
   ]
  },
  {
   "cell_type": "code",
   "execution_count": 18,
   "metadata": {},
   "outputs": [],
   "source": [
    "def bt():\n",
    "    \n",
    "    '''\n",
    "    runs a BaggedTreeClassifier on the test data\n",
    "    returns accuracy and predictions given the classifier\n",
    "    \n",
    "    '''\n",
    "        \n",
    "    bagged_tree =  BaggingClassifier(DecisionTreeClassifier(criterion='gini', max_depth=5), \n",
    "                                     n_estimators=20)\n",
    "    bagged_tree.fit(X_train, y_train)\n",
    "    treepred = bagged_tree.predict(X_test)\n",
    "    return(round(accuracy_score(y_test, treepred) * 100, 4))"
   ]
  },
  {
   "cell_type": "markdown",
   "metadata": {},
   "source": [
    "# Random Forest"
   ]
  },
  {
   "cell_type": "code",
   "execution_count": 19,
   "metadata": {},
   "outputs": [
    {
     "data": {
      "text/plain": [
       "RandomForestClassifier(bootstrap=True, class_weight=None, criterion='gini',\n",
       "                       max_depth=5, max_features='auto', max_leaf_nodes=None,\n",
       "                       min_impurity_decrease=0.0, min_impurity_split=None,\n",
       "                       min_samples_leaf=1, min_samples_split=2,\n",
       "                       min_weight_fraction_leaf=0.0, n_estimators=100,\n",
       "                       n_jobs=None, oob_score=False, random_state=None,\n",
       "                       verbose=0, warm_start=False)"
      ]
     },
     "execution_count": 19,
     "metadata": {},
     "output_type": "execute_result"
    }
   ],
   "source": [
    "forest = RandomForestClassifier(n_estimators=100, max_depth= 5)\n",
    "forest.fit(X_train, y_train)"
   ]
  },
  {
   "cell_type": "code",
   "execution_count": 20,
   "metadata": {},
   "outputs": [
    {
     "name": "stdout",
     "output_type": "stream",
     "text": [
      "0.9524705103514685\n",
      "0.9520649966147596\n",
      "[[20967  1031]\n",
      " [ 1093 21219]]\n",
      "              precision    recall  f1-score   support\n",
      "\n",
      "           0       0.95      0.95      0.95     21998\n",
      "           1       0.95      0.95      0.95     22312\n",
      "\n",
      "    accuracy                           0.95     44310\n",
      "   macro avg       0.95      0.95      0.95     44310\n",
      "weighted avg       0.95      0.95      0.95     44310\n",
      "\n"
     ]
    }
   ],
   "source": [
    "# we actually did worse with a random forest.\n",
    "\n",
    "print(forest.score(X_train, y_train))\n",
    "print(forest.score(X_test, y_test))\n",
    "\n",
    "# Test set predictions\n",
    "fpred = forest.predict(X_test)\n",
    "\n",
    "# Confusion matrix and classification report\n",
    "print(confusion_matrix(y_test, fpred))\n",
    "print(classification_report(y_test, fpred))"
   ]
  },
  {
   "cell_type": "code",
   "execution_count": 21,
   "metadata": {},
   "outputs": [
    {
     "data": {
      "text/plain": [
       "RandomForestClassifier(bootstrap=True, class_weight=None, criterion='gini',\n",
       "                       max_depth=2, max_features=10, max_leaf_nodes=None,\n",
       "                       min_impurity_decrease=0.0, min_impurity_split=None,\n",
       "                       min_samples_leaf=1, min_samples_split=2,\n",
       "                       min_weight_fraction_leaf=0.0, n_estimators=5,\n",
       "                       n_jobs=None, oob_score=False, random_state=None,\n",
       "                       verbose=0, warm_start=False)"
      ]
     },
     "execution_count": 21,
     "metadata": {},
     "output_type": "execute_result"
    }
   ],
   "source": [
    "# another forest, and we'll take a look at invidual trees\n",
    "\n",
    "forest_2 = RandomForestClassifier(n_estimators = 5, max_features= 10, max_depth= 2)\n",
    "forest_2.fit(X_train, y_train)"
   ]
  },
  {
   "cell_type": "code",
   "execution_count": 22,
   "metadata": {},
   "outputs": [],
   "source": [
    "rf_tree_2 = forest_2.estimators_[1]"
   ]
  },
  {
   "cell_type": "code",
   "execution_count": 23,
   "metadata": {},
   "outputs": [
    {
     "data": {
      "image/png": "[encoded data removed]",
      "text/plain": [
       "<Figure size 576x576 with 1 Axes>"
      ]
     },
     "metadata": {
      "needs_background": "light"
     },
     "output_type": "display_data"
    }
   ],
   "source": [
    "plot_feature_importances(rf_tree_2)"
   ]
  },
  {
   "cell_type": "code",
   "execution_count": 24,
   "metadata": {},
   "outputs": [],
   "source": [
    "def rf():\n",
    "    '''\n",
    "    runs a Random Forest Classifier on the test data\n",
    "    returns accuracy and predictions given the classifier\n",
    "    \n",
    "    '''\n",
    "    \n",
    "    forest = RandomForestClassifier(n_estimators=100, max_depth= 5)\n",
    "    forest.fit(X_train, y_train)\n",
    "    \n",
    "    forest_pred = forest.predict(X_test)\n",
    "    \n",
    "    return(round(accuracy_score(y_test, forest_pred) * 100, 4))"
   ]
  },
  {
   "cell_type": "markdown",
   "metadata": {},
   "source": [
    "# GridSearch"
   ]
  },
  {
   "cell_type": "code",
   "execution_count": 25,
   "metadata": {},
   "outputs": [],
   "source": [
    "dt_param_grid = {\n",
    "    'criterion': ['gini', 'entropy'],\n",
    "    'max_depth': [None, 2, 3, 4, 5, 6],\n",
    "    'min_samples_split': [2, 5, 10],\n",
    "    'min_samples_leaf': [1, 2, 3, 4, 5, 6]\n",
    "}"
   ]
  },
  {
   "cell_type": "code",
   "execution_count": 26,
   "metadata": {},
   "outputs": [
    {
     "name": "stdout",
     "output_type": "stream",
     "text": [
      "Fitting 3 folds for each of 216 candidates, totalling 648 fits\n"
     ]
    },
    {
     "name": "stderr",
     "output_type": "stream",
     "text": [
      "[Parallel(n_jobs=-1)]: Using backend LokyBackend with 4 concurrent workers.\n",
      "[Parallel(n_jobs=-1)]: Done  42 tasks      | elapsed:   25.1s\n",
      "[Parallel(n_jobs=-1)]: Done 192 tasks      | elapsed:   53.7s\n",
      "[Parallel(n_jobs=-1)]: Done 442 tasks      | elapsed:  2.1min\n",
      "[Parallel(n_jobs=-1)]: Done 648 out of 648 | elapsed:  3.0min finished\n"
     ]
    },
    {
     "data": {
      "text/plain": [
       "GridSearchCV(cv=3, error_score='raise-deprecating',\n",
       "             estimator=DecisionTreeClassifier(class_weight=None,\n",
       "                                              criterion='gini', max_depth=5,\n",
       "                                              max_features=None,\n",
       "                                              max_leaf_nodes=None,\n",
       "                                              min_impurity_decrease=0.0,\n",
       "                                              min_impurity_split=None,\n",
       "                                              min_samples_leaf=1,\n",
       "                                              min_samples_split=2,\n",
       "                                              min_weight_fraction_leaf=0.0,\n",
       "                                              presort=False, random_state=None,\n",
       "                                              splitter='best'),\n",
       "             iid='warn', n_jobs=-1,\n",
       "             param_grid={'criterion': ['gini', 'entropy'],\n",
       "                         'max_depth': [None, 2, 3, 4, 5, 6],\n",
       "                         'min_samples_leaf': [1, 2, 3, 4, 5, 6],\n",
       "                         'min_samples_split': [2, 5, 10]},\n",
       "             pre_dispatch='2*n_jobs', refit=True, return_train_score=True,\n",
       "             scoring=None, verbose=1)"
      ]
     },
     "execution_count": 26,
     "metadata": {},
     "output_type": "execute_result"
    }
   ],
   "source": [
    "dt_grid_search = GridSearchCV(tree_clf, dt_param_grid, cv=3, return_train_score=True, verbose = 1, n_jobs=-1)\n",
    "\n",
    "dt_grid_search.fit(X_train, y_train)"
   ]
  },
  {
   "cell_type": "code",
   "execution_count": 27,
   "metadata": {},
   "outputs": [
    {
     "name": "stdout",
     "output_type": "stream",
     "text": [
      "Mean Training Score: 94.66%\n",
      "Mean Test Score: 97.46%\n",
      "Best Parameter Combination Found During Grid Search:\n"
     ]
    },
    {
     "data": {
      "text/plain": [
       "{'criterion': 'gini',\n",
       " 'max_depth': 6,\n",
       " 'min_samples_leaf': 1,\n",
       " 'min_samples_split': 2}"
      ]
     },
     "execution_count": 27,
     "metadata": {},
     "output_type": "execute_result"
    }
   ],
   "source": [
    "dt_gs_training_score = np.mean(dt_grid_search.cv_results_['mean_train_score'])\n",
    "\n",
    "# Mean test score\n",
    "dt_gs_testing_score = dt_grid_search.score(X_test, y_test)\n",
    "\n",
    "print(f\"Mean Training Score: {dt_gs_training_score :.2%}\")\n",
    "print(f\"Mean Test Score: {dt_gs_testing_score :.2%}\")\n",
    "print(\"Best Parameter Combination Found During Grid Search:\")\n",
    "dt_grid_search.best_params_"
   ]
  },
  {
   "cell_type": "code",
   "execution_count": 28,
   "metadata": {},
   "outputs": [
    {
     "name": "stdout",
     "output_type": "stream",
     "text": [
      "[[21460   538]\n",
      " [  588 21724]]\n",
      "              precision    recall  f1-score   support\n",
      "\n",
      "           0       0.97      0.98      0.97     21998\n",
      "           1       0.98      0.97      0.97     22312\n",
      "\n",
      "    accuracy                           0.97     44310\n",
      "   macro avg       0.97      0.97      0.97     44310\n",
      "weighted avg       0.97      0.97      0.97     44310\n",
      "\n"
     ]
    }
   ],
   "source": [
    "# Test set predictions\n",
    "gspred = dt_grid_search.predict(X_test)\n",
    "\n",
    "# Confusion matrix and classification report\n",
    "print(confusion_matrix(y_test, gspred))\n",
    "print(classification_report(y_test, gspred))"
   ]
  },
  {
   "cell_type": "code",
   "execution_count": 29,
   "metadata": {},
   "outputs": [],
   "source": [
    "def gs_tree():\n",
    "    '''\n",
    "    runs a GridSearch using a DecisionTree Classifier on the test data\n",
    "    returns accuracy and predictions given the classifier\n",
    "    \n",
    "    '''\n",
    "    dt_param_grid = {\n",
    "        'criterion': ['gini', 'entropy'],\n",
    "        'max_depth': [None, 2, 3, 4, 5, 6],\n",
    "        'min_samples_split': [2, 5, 10],\n",
    "        'min_samples_leaf': [1, 2, 3, 4, 5, 6]\n",
    "        }\n",
    "    dt_grid_search = GridSearchCV(tree_clf, dt_param_grid, cv=3, return_train_score=True, verbose = 1, n_jobs=-1)\n",
    "\n",
    "    dt_grid_search.fit(X_train, y_train)\n",
    "    print(\"Best Parameter Combination Found During Grid Search:\")\n",
    "    print(dt_grid_search.best_params_)\n",
    "    gstree_pred = dt_grid_search.predict(X_test)\n",
    "    return(round(accuracy_score(y_test, gstree_pred) * 100, 4))"
   ]
  },
  {
   "cell_type": "code",
   "execution_count": 30,
   "metadata": {},
   "outputs": [],
   "source": [
    "# Gridsearch with random forest classifier"
   ]
  },
  {
   "cell_type": "code",
   "execution_count": 31,
   "metadata": {},
   "outputs": [],
   "source": [
    "rf_param_grid = {\n",
    "    'n_estimators': [10, 30, 100],\n",
    "    'criterion': ['gini', 'entropy'],\n",
    "    'max_depth': [None, 2, 6, 10],\n",
    "    'min_samples_split': [5, 10],\n",
    "    'min_samples_leaf': [3, 6]\n",
    "}"
   ]
  },
  {
   "cell_type": "code",
   "execution_count": 32,
   "metadata": {},
   "outputs": [],
   "source": [
    "rf_clf = RandomForestClassifier(n_estimators = 5, max_features= 10, max_depth= 5)\n",
    "mean_rf_cv_score = np.mean(cross_val_score(rf_clf, X_train, y_train, cv = 3))"
   ]
  },
  {
   "cell_type": "code",
   "execution_count": 33,
   "metadata": {},
   "outputs": [
    {
     "data": {
      "text/plain": [
       "'rf_grid_search = GridSearchCV(rf_clf, rf_param_grid, cv=3, verbose=3, n_jobs=-1, return_train_score=True)\\nrf_grid_search.fit(X_train, y_train)'"
      ]
     },
     "execution_count": 33,
     "metadata": {},
     "output_type": "execute_result"
    }
   ],
   "source": [
    "# this is commented out to preserve the time to execute this notebook\n",
    "\n",
    "'''rf_grid_search = GridSearchCV(rf_clf, rf_param_grid, cv=3, verbose=3, n_jobs=-1, return_train_score=True)\n",
    "rf_grid_search.fit(X_train, y_train)'''"
   ]
  },
  {
   "cell_type": "code",
   "execution_count": 35,
   "metadata": {},
   "outputs": [
    {
     "data": {
      "text/plain": [
       "'rf_gs_training_score = np.mean(rf_grid_search.cv_results_[\\'mean_train_score\\'])\\nrf_gs_testing_score = rf_grid_search.score(X_test, y_test)\\n\\nprint(f\"Mean Training Score: {rf_gs_training_score :.2%}\")\\nprint(f\"Mean Test Score: {rf_gs_testing_score :.2%}\")\\nprint(f\"Training Accuracy: {rf_grid_search.best_score_ :.2%}\")\\nprint(\"\")\\nprint(f\"Optimal Parameters: {rf_grid_search.best_params_}\")'"
      ]
     },
     "execution_count": 35,
     "metadata": {},
     "output_type": "execute_result"
    }
   ],
   "source": [
    "# Mean training and testing score\n",
    "\n",
    "'''rf_gs_training_score = np.mean(rf_grid_search.cv_results_['mean_train_score'])\n",
    "rf_gs_testing_score = rf_grid_search.score(X_test, y_test)\n",
    "\n",
    "print(f\"Mean Training Score: {rf_gs_training_score :.2%}\")\n",
    "print(f\"Mean Test Score: {rf_gs_testing_score :.2%}\")\n",
    "print(f\"Training Accuracy: {rf_grid_search.best_score_ :.2%}\")\n",
    "print(\"\")\n",
    "print(f\"Optimal Parameters: {rf_grid_search.best_params_}\")'''"
   ]
  },
  {
   "cell_type": "code",
   "execution_count": 36,
   "metadata": {},
   "outputs": [],
   "source": [
    "def gs_forest():\n",
    "    \n",
    "    '''\n",
    "    runs a GridSearch using Random Forest on the test data\n",
    "    returns accuracy and predictions given the classifier\n",
    "    \n",
    "    '''\n",
    "    rf_param_grid = {\n",
    "        'n_estimators': [10, 30, 100],\n",
    "        'criterion': ['gini', 'entropy'],\n",
    "        'max_depth': [None, 2, 6, 10],\n",
    "        'min_samples_split': [5, 10],\n",
    "        'min_samples_leaf': [3, 6]\n",
    "    }\n",
    "    rf_clf = RandomForestClassifier(n_estimators = 5, max_features= 10, max_depth= 5)\n",
    "    rf_grid_search = GridSearchCV(rf_clf, rf_param_grid, cv=3, verbose=3, n_jobs=-1, return_train_score=True)\n",
    "    rf_grid_search.fit(X_train, y_train)\n",
    "    print(f\"Optimal Parameters: {rf_grid_search.best_params_}\")\n",
    "    return (round(rf_grid_search.best_score_, 4)*100)"
   ]
  },
  {
   "cell_type": "markdown",
   "metadata": {},
   "source": [
    "# Optimal Model\n",
    "Running our Optimal Parameters gives us an accuracy score of 97.75%\n",
    "\n",
    "Optimal Parameters: {'criterion': 'entropy', 'max_depth': 10, \n",
    "'min_samples_leaf': 3,'min_samples_split': 5, 'n_estimators': 30}"
   ]
  },
  {
   "cell_type": "code",
   "execution_count": 37,
   "metadata": {},
   "outputs": [
    {
     "data": {
      "text/plain": [
       "RandomForestClassifier(bootstrap=True, class_weight=None, criterion='entropy',\n",
       "                       max_depth=10, max_features='auto', max_leaf_nodes=None,\n",
       "                       min_impurity_decrease=0.0, min_impurity_split=None,\n",
       "                       min_samples_leaf=3, min_samples_split=5,\n",
       "                       min_weight_fraction_leaf=0.0, n_estimators=30,\n",
       "                       n_jobs=None, oob_score=False, random_state=None,\n",
       "                       verbose=0, warm_start=False)"
      ]
     },
     "execution_count": 37,
     "metadata": {},
     "output_type": "execute_result"
    }
   ],
   "source": [
    "optimal_forest = RandomForestClassifier(criterion = 'entropy', \n",
    "                                max_depth = 10, \n",
    "                                min_samples_leaf = 3, \n",
    "                                min_samples_split = 5, \n",
    "                                n_estimators = 30)\n",
    "optimal_forest.fit(X_train, y_train)"
   ]
  },
  {
   "cell_type": "code",
   "execution_count": 38,
   "metadata": {},
   "outputs": [
    {
     "data": {
      "image/png": "[encoded data removed]",
      "text/plain": [
       "<Figure size 576x576 with 1 Axes>"
      ]
     },
     "metadata": {
      "needs_background": "light"
     },
     "output_type": "display_data"
    }
   ],
   "source": [
    "# plot of our feature importances\n",
    "plot_feature_importances(optimal_forest)"
   ]
  },
  {
   "cell_type": "code",
   "execution_count": 39,
   "metadata": {},
   "outputs": [],
   "source": [
    "# optimal_forest.predict_proba(X_test)"
   ]
  },
  {
   "cell_type": "code",
   "execution_count": 40,
   "metadata": {},
   "outputs": [
    {
     "name": "stdout",
     "output_type": "stream",
     "text": [
      "[[21418   580]\n",
      " [  532 21780]]\n",
      "              precision    recall  f1-score   support\n",
      "\n",
      "           0       0.98      0.97      0.97     21998\n",
      "           1       0.97      0.98      0.98     22312\n",
      "\n",
      "    accuracy                           0.97     44310\n",
      "   macro avg       0.97      0.97      0.97     44310\n",
      "weighted avg       0.97      0.97      0.97     44310\n",
      "\n"
     ]
    }
   ],
   "source": [
    "# Test set predictions\n",
    "optimal_predictions = optimal_forest.predict(X_test)\n",
    "\n",
    "# Confusion matrix and classification report\n",
    "print(confusion_matrix(y_test, optimal_predictions))\n",
    "print(classification_report(y_test, optimal_predictions))"
   ]
  },
  {
   "cell_type": "code",
   "execution_count": 41,
   "metadata": {},
   "outputs": [
    {
     "data": {
      "text/plain": [
       "array([7.49766493e-03, 4.47766625e-03, 4.57035596e-03, 1.43659668e-02,\n",
       "       1.42883981e-05, 2.29039034e-03, 1.14682391e-01, 1.45254444e-02,\n",
       "       2.03484483e-02, 2.78063384e-01, 4.20383215e-01, 5.82036542e-03,\n",
       "       4.58128127e-03, 5.33547021e-02, 1.43764876e-02, 2.52100554e-02,\n",
       "       6.74008569e-03, 8.69780667e-03])"
      ]
     },
     "execution_count": 41,
     "metadata": {},
     "output_type": "execute_result"
    }
   ],
   "source": [
    "optimal_forest.feature_importances_"
   ]
  },
  {
   "cell_type": "code",
   "execution_count": 43,
   "metadata": {},
   "outputs": [],
   "source": [
    "def getKaggleOutput(year):\n",
    "    '''\n",
    "    For given season, return predictions of all team combinations in the kaggle format:\n",
    "    list of [yyyy_winningTeam_losingTeam, confidence%]\n",
    "    \n",
    "    '''    \n",
    "    # get our list of teams entered in this year's tournament\n",
    "\n",
    "    teams_dancing = df_Seeds[df_Seeds['Season']==year]['TeamID'].values\n",
    "\n",
    "    \n",
    "    # creating our output list\n",
    "    output = []\n",
    "    comb = combinations(teams_dancing, 2)\n",
    "    for i in list(comb):\n",
    "        output.append(ContrastTeams(i[0], i[1], year))\n",
    "    return (output)\n",
    "    "
   ]
  },
  {
   "cell_type": "code",
   "execution_count": 44,
   "metadata": {},
   "outputs": [],
   "source": [
    "def Gauntlet():\n",
    "    '''\n",
    "    I wanted a single function call to run all our classifiers.  In hindsight it was a bad idea, but I left\n",
    "    this for postererity.  \n",
    "    \n",
    "    Requires the data to be test_train_split prior to running function\n",
    "    \n",
    "    No output. Only prints out the results of all classifiers in the Gauntlet.\n",
    "    '''\n",
    "    \n",
    "    # print ('Accuracy Scores: ')\n",
    "    # print ('Decision Tree Classifier: ', DTC())\n",
    "    # print ('Bagged Tree: ', bt())\n",
    "    # print ('Random Forest: ', rf())\n",
    "    # print ('Grid Search with Tree Classifier: ', gs_tree())\n",
    "    # print ('Grid Search with Random Forest: ', gs_forest())\n"
   ]
  },
  {
   "cell_type": "markdown",
   "metadata": {},
   "source": [
    "# Next Steps:\n",
    "\n",
    "I was going to work on modeling to determine upsets in the tournament to create a different POV.  I will continue this work later for personal edification but all work beyond this point does not hold importance to this project.\n"
   ]
  },
  {
   "cell_type": "code",
   "execution_count": 45,
   "metadata": {},
   "outputs": [],
   "source": [
    "import math\n",
    "RegSeason_advanced = pd.read_csv('CreatedData/RegSeason_all.csv')\n",
    "RegSeason_Means = RegSeason_advanced.groupby(['TeamID','Season']).mean().reset_index()\n",
    "\n",
    "df_Seeds = pd.read_csv(\"2020DataFiles/2020-Mens-Data/MDataFiles_Stage1/MNCAATourneySeeds.csv\")\n",
    "results = pd.read_csv(\"2020DataFiles/2020-Mens-Data/MDataFiles_Stage1/MNCAATourneyCompactResults.csv\")"
   ]
  },
  {
   "cell_type": "code",
   "execution_count": 46,
   "metadata": {},
   "outputs": [],
   "source": [
    "duke = RegSeason_advanced[(RegSeason_advanced['Season']==2019) & (RegSeason_advanced['TeamID']==1181)]\n",
    "carolina = RegSeason_advanced[(RegSeason_advanced['Season']==2019) & (RegSeason_advanced['TeamID']==1314)]"
   ]
  },
  {
   "cell_type": "code",
   "execution_count": 47,
   "metadata": {},
   "outputs": [
    {
     "data": {
      "text/plain": [
       "<matplotlib.axes._subplots.AxesSubplot at 0x11dfb530>"
      ]
     },
     "execution_count": 47,
     "metadata": {},
     "output_type": "execute_result"
    },
    {
     "data": {
      "image/png": "[encoded data removed]",
      "text/plain": [
       "<Figure size 432x288 with 1 Axes>"
      ]
     },
     "metadata": {
      "needs_background": "light"
     },
     "output_type": "display_data"
    }
   ],
   "source": [
    "#probability of upset = 1 - 1/2 erf(c-mu1/(std1)* sqrt(2)) + 1/2 erf(c-mu2/(std2)*sqrt(2)) where\n",
    "var = \"Rtg_Margin\"\n",
    "mu1 = duke[var].mean()\n",
    "mu2 = carolina[var].mean()\n",
    "std1 = duke[var].std()\n",
    "std2 = carolina[var].std()\n",
    "sns.distplot(duke[var])\n",
    "sns.distplot(carolina[var])"
   ]
  },
  {
   "cell_type": "code",
   "execution_count": 48,
   "metadata": {},
   "outputs": [],
   "source": [
    "def calc_underdog_win(m1, m2, s1, s2):\n",
    "    c_numerator = ( (m2 * s1**2) - \\\n",
    "                s2*( m1*s2 + s1 * \\\n",
    "                math.sqrt( (m1 - m2)**2 + \\\n",
    "                2*(s1**2 - s2**2)*math.log(s1/s2) )) \\\n",
    "                )\n",
    "    c_denominator = s1**2 - s2**2\n",
    "    c = c_numerator/c_denominator\n",
    "    p = 1 - 0.5*erf( (c-mu1)/ (math.sqrt(2)*s1) ) + 0.5*erf( (c-m2)/(math.sqrt(2)*s2) )\n",
    "    return (p)"
   ]
  },
  {
   "cell_type": "code",
   "execution_count": 49,
   "metadata": {},
   "outputs": [],
   "source": [
    "from scipy.special import erf\n",
    "from scipy import stats"
   ]
  },
  {
   "cell_type": "code",
   "execution_count": 50,
   "metadata": {},
   "outputs": [
    {
     "data": {
      "text/plain": [
       "0.9101093925857333"
      ]
     },
     "execution_count": 50,
     "metadata": {},
     "output_type": "execute_result"
    }
   ],
   "source": [
    "calc_underdog_win(mu1,mu2,std1,std2)"
   ]
  },
  {
   "cell_type": "code",
   "execution_count": 51,
   "metadata": {},
   "outputs": [],
   "source": [
    "tourney_team = RegSeason_Means[(RegSeason_Means['Season']==2019)&(RegSeason_Means['win']>=.65) ]\n",
    "tourney_mu = (tourney_team[\"Rtg_Margin\"].mean())\n",
    "tourney_std = (tourney_team[\"Rtg_Margin\"].std())"
   ]
  },
  {
   "cell_type": "code",
   "execution_count": 52,
   "metadata": {},
   "outputs": [],
   "source": [
    "# Function Contrast Teams\n",
    "\n",
    "def ContrastTeams(TeamID1, TeamID2, year):\n",
    "    '''\n",
    "    Take in 2 teams for a specific season.  \n",
    "    Return the predicted winning team and our confidence in the format of:\n",
    "    [\"Year_winningTeamID_losingTeamID\", confidence %]\n",
    "    '''\n",
    "    \n",
    "    #instantiate our variables\n",
    "    \n",
    "    score1 = 0\n",
    "    score2 = 0\n",
    "    confidence = 0\n",
    "    var = \"Rtg_Margin\"\n",
    "    \n",
    "    team1 = RegSeason_advanced[(RegSeason_advanced['Season']==year) & (RegSeason_advanced['TeamID']==TeamID1)]\n",
    "    team2 = RegSeason_advanced[(RegSeason_advanced['Season']==year) & (RegSeason_advanced['TeamID']==TeamID2)]\n",
    "    mu1 = team1[var].mean()\n",
    "    mu2 = team2[var].mean()\n",
    "    std1 = team1[var].std()\n",
    "    std2 = team2[var].std()\n",
    "    # Confidence Scoring comes here.\n",
    "    \n",
    "    score1 = team1[\"Rtg_Margin\"].mean()*-1\n",
    "    score2 = team2['Rtg_Margin'].mean()*-1\n",
    "    \n",
    "    ''' score1 = team1[\"Rtg_Margin\"].values[0]*-1\n",
    "    score2 = team2['Rtg_Margin'].values[0]*-1'''\n",
    "    # baseline constant.  no rhyme or reason for now\n",
    "    k = 0\n",
    "    \n",
    "    if (score1 > score2):\n",
    "\n",
    "        confidence = calc_underdog_win(mu1,mu2,std1,std2)\n",
    "        return ( [(str(year) + \"_\" + str(TeamID1) + \"_\" + str(TeamID2)), scale_confidence(confidence)] )\n",
    "    \n",
    "    else:\n",
    "        confidence = calc_underdog_win(mu2,mu1,std2,std1)\n",
    "        return ( [(str(year) + \"_\" + str(TeamID2) + \"_\" + str(TeamID1)), scale_confidence(confidence)] )\n",
    "    \n",
    "\n",
    "    "
   ]
  },
  {
   "cell_type": "code",
   "execution_count": 53,
   "metadata": {},
   "outputs": [],
   "source": [
    "def scale_confidence(c):\n",
    "    return c-.25"
   ]
  },
  {
   "cell_type": "code",
   "execution_count": 54,
   "metadata": {},
   "outputs": [],
   "source": [
    "testset = getKaggleOutput(2017)"
   ]
  },
  {
   "cell_type": "code",
   "execution_count": 55,
   "metadata": {},
   "outputs": [],
   "source": [
    "# create function to parse file format into prediction labels.\n",
    "\n",
    "def translate_prediction(single_prediction):\n",
    "    '''\n",
    "        Function takes in a single prediction line and returns a list with 2 values \n",
    "        with format [boolean prediction_is_correct, confidence]\n",
    "        \n",
    "    '''\n",
    "    s, p = single_prediction\n",
    "    year, team1, team2 = map(int, s.split('_'))\n",
    "    temp_df = results.loc[(results['Season'] == year) & \n",
    "                      (((results['WTeamID'] == team1) & (results['LTeamID'] == team2)) |\n",
    "                      ((results['WTeamID'] == team2) & (results['LTeamID'] == team1)))\n",
    "                        ]\n",
    "    try:\n",
    "        if temp_df['WTeamID'].values[0] == team1:\n",
    "            return ([1, p])\n",
    "        else:\n",
    "            return ([0, p])                \n",
    "\n",
    "    except:\n",
    "        #game doesn't happen\n",
    "        pass"
   ]
  },
  {
   "cell_type": "code",
   "execution_count": 56,
   "metadata": {},
   "outputs": [],
   "source": [
    "predictions = []\n",
    "\n",
    "for i in testset:\n",
    "    x = translate_prediction(i)\n",
    "    if x is not None:\n",
    "        predictions.append(x)"
   ]
  },
  {
   "cell_type": "code",
   "execution_count": null,
   "metadata": {},
   "outputs": [],
   "source": []
  }
 ],
 "metadata": {
  "kernelspec": {
   "display_name": "Python 3",
   "language": "python",
   "name": "python3"
  },
  "language_info": {
   "codemirror_mode": {
    "name": "ipython",
    "version": 3
   },
   "file_extension": ".py",
   "mimetype": "text/x-python",
   "name": "python",
   "nbconvert_exporter": "python",
   "pygments_lexer": "ipython3",
   "version": "3.7.3"
  }
 },
 "nbformat": 4,
 "nbformat_minor": 2
}
