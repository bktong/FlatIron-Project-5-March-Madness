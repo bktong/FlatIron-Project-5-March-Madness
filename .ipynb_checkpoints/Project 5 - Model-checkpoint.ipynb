{
 "cells": [
  {
   "cell_type": "markdown",
   "metadata": {},
   "source": [
    "# Modeling:\n",
    "\n"
   ]
  },
  {
   "cell_type": "code",
   "execution_count": 1,
   "metadata": {},
   "outputs": [],
   "source": [
    "# imports\n",
    "\n",
    "import pandas as pd\n",
    "import matplotlib.pyplot as plt\n",
    "import numpy as np\n",
    "%matplotlib inline\n",
    "import seaborn as sns\n",
    "carolinaBlue = 'deepskyblue'  # because d00k sucks"
   ]
  },
  {
   "cell_type": "code",
   "execution_count": 2,
   "metadata": {},
   "outputs": [],
   "source": [
    "# importing our data\n",
    "folder = \"CreatedData/\"\n",
    "df = pd.read_csv(folder + \"RegSeason_all.csv\")"
   ]
  },
  {
   "cell_type": "code",
   "execution_count": 3,
   "metadata": {},
   "outputs": [],
   "source": [
    "# modeling libraries\n",
    "\n",
    "from sklearn.metrics import accuracy_score, f1_score, confusion_matrix, classification_report\n",
    "from sklearn.model_selection import train_test_split\n",
    "from sklearn.utils import resample\n",
    "from sklearn.preprocessing import PolynomialFeatures\n",
    "from sklearn.preprocessing import StandardScaler\n",
    "\n",
    "from sklearn.neighbors import KNeighborsClassifier\n",
    "from sklearn.ensemble import RandomForestClassifier\n",
    "from sklearn.ensemble import BaggingClassifier\n",
    "from sklearn.tree import DecisionTreeClassifier\n",
    "from sklearn.model_selection import GridSearchCV\n",
    "from sklearn.model_selection import cross_val_score\n",
    "from sklearn.model_selection import RandomizedSearchCV\n",
    "from sklearn.linear_model import LogisticRegression\n",
    "from sklearn.ensemble import GradientBoostingRegressor\n",
    "from sklearn.ensemble import AdaBoostClassifier\n",
    "\n",
    "from sklearn.tree import DecisionTreeRegressor\n",
    "from sklearn.metrics import r2_score, mean_squared_error \n",
    "from sklearn.metrics import accuracy_score\n",
    "\n",
    "from datetime import datetime"
   ]
  },
  {
   "cell_type": "markdown",
   "metadata": {},
   "source": [
    "# Split our data for Test/Train"
   ]
  },
  {
   "cell_type": "code",
   "execution_count": 4,
   "metadata": {},
   "outputs": [
    {
     "data": {
      "text/plain": [
       "(175008, 33)"
      ]
     },
     "execution_count": 4,
     "metadata": {},
     "output_type": "execute_result"
    }
   ],
   "source": [
    "# how much are we really working with here?\n",
    "\n",
    "df.shape"
   ]
  },
  {
   "cell_type": "code",
   "execution_count": 8,
   "metadata": {},
   "outputs": [
    {
     "data": {
      "text/plain": [
       "Index(['Season', 'TeamID', 'Score', 'NumOT', 'FGM', 'FGA', 'FGM3', 'FGA3',\n",
       "       'FTM', 'FTA', 'OR', 'DR', 'Ast', 'TO', 'Stl', 'Blk', 'PF',\n",
       "       'Possessions', 'Shooting_Eff', 'EffectiveFGP', 'FGP3', 'Off_Rating',\n",
       "       'Def_Rating', 'Off_RBP', 'Def_RBP', 'Tot_RBP', 'TO_Rate', 'FTP',\n",
       "       'Ast_Ratio', 'Blk_Ratio', 'Stl_Ratio', 'Rtg_Margin', 'win'],\n",
       "      dtype='object')"
      ]
     },
     "execution_count": 8,
     "metadata": {},
     "output_type": "execute_result"
    }
   ],
   "source": [
    "df.columns"
   ]
  },
  {
   "cell_type": "code",
   "execution_count": 5,
   "metadata": {},
   "outputs": [
    {
     "data": {
      "text/plain": [
       "TO              0\n",
       "Stl             0\n",
       "Blk             0\n",
       "PF              0\n",
       "Possessions     0\n",
       "Shooting_Eff    0\n",
       "EffectiveFGP    0\n",
       "FGP3            0\n",
       "Off_Rating      0\n",
       "Def_Rating      0\n",
       "Off_RBP         0\n",
       "Def_RBP         0\n",
       "Tot_RBP         0\n",
       "TO_Rate         0\n",
       "Ast_Ratio       0\n",
       "Blk_Ratio       0\n",
       "Stl_Ratio       0\n",
       "dtype: int64"
      ]
     },
     "execution_count": 5,
     "metadata": {},
     "output_type": "execute_result"
    }
   ],
   "source": [
    "# Train_test_split\n",
    "\n",
    "\n",
    "# we are dropping the basic statitistics which ran with an accuracy roughly around 70-75%.\n",
    "# instead we'll be using the advance stats calculated.\n",
    "\n",
    "y = df['win']\n",
    "X = df.drop(columns = ['Season', 'TeamID', 'Score', 'NumOT', 'FGM', 'FGA', 'FGM3', 'FGA3',\n",
    "                                'FTM', 'FTA', 'FTP','OR', 'DR', 'Ast', 'win', 'Rtg_Margin'])\n",
    "\n",
    "# making sure we don't have any of those NaNs still.  \n",
    "# also of note.  If you are using Free Throw percentages as a key feature, there are 15\n",
    "# games where a team has attempted zero Free Throws.\n",
    "\n",
    "X.isna().sum()"
   ]
  },
  {
   "cell_type": "code",
   "execution_count": 6,
   "metadata": {},
   "outputs": [],
   "source": [
    "# train/test/split, using random_state of 23 so we can repeat our results.\n",
    "\n",
    "X_train, X_test, y_train, y_test = train_test_split(X, y, test_size=0.25, random_state=23)"
   ]
  },
  {
   "cell_type": "markdown",
   "metadata": {},
   "source": [
    "# Functions:"
   ]
  },
  {
   "cell_type": "code",
   "execution_count": 11,
   "metadata": {},
   "outputs": [],
   "source": [
    "# According to basic Decision Tree, these are the important features.\n",
    "\n",
    "def plot_feature_importances(model):\n",
    "\n",
    "    ''' plots a horizontal bar chart using the feature_imporances_ /\n",
    "    object of the model being run.  Makes it easy for us to visualize /\n",
    "    our most importat features. '''    \n",
    "\n",
    "    n_features = X_train.shape[1]\n",
    "    plt.figure(figsize=(8,8))\n",
    "    plt.barh(range(n_features), model.feature_importances_, align='center') \n",
    "    plt.yticks(np.arange(n_features), X_train.columns.values) \n",
    "    plt.title ('Ranking our Features')\n",
    "    plt.xlabel('Feature importance')\n",
    "    plt.ylabel('Feature')\n"
   ]
  },
  {
   "cell_type": "markdown",
   "metadata": {},
   "source": [
    "# Decision Tree\n",
    "\n",
    "Our first model up is the decision tree."
   ]
  },
  {
   "cell_type": "code",
   "execution_count": 57,
   "metadata": {},
   "outputs": [],
   "source": [
    "tree_clf = DecisionTreeClassifier(criterion = 'gini', max_depth=5)\n",
    "tree_clf.fit(X_train, y_train)\n",
    "tree_clf.feature_importances_\n",
    "\n",
    "dt_cv_score = cross_val_score(tree_clf, X_train, y_train, cv=3)\n",
    "mean_dt_cv_score = np.mean(dt_cv_score)"
   ]
  },
  {
   "cell_type": "code",
   "execution_count": 12,
   "metadata": {},
   "outputs": [
    {
     "data": {
      "image/png": "[encoded data removed]",
      "text/plain": [
       "<Figure size 576x576 with 1 Axes>"
      ]
     },
     "metadata": {
      "needs_background": "light"
     },
     "output_type": "display_data"
    }
   ],
   "source": [
    "plot_feature_importances(tree_clf)"
   ]
  },
  {
   "cell_type": "code",
   "execution_count": 13,
   "metadata": {},
   "outputs": [
    {
     "name": "stdout",
     "output_type": "stream",
     "text": [
      "[[21210   653]\n",
      " [  697 21192]]\n",
      "              precision    recall  f1-score   support\n",
      "\n",
      "           0       0.97      0.97      0.97     21863\n",
      "           1       0.97      0.97      0.97     21889\n",
      "\n",
      "    accuracy                           0.97     43752\n",
      "   macro avg       0.97      0.97      0.97     43752\n",
      "weighted avg       0.97      0.97      0.97     43752\n",
      "\n"
     ]
    }
   ],
   "source": [
    "# Test set predictions\n",
    "pred = tree_clf.predict(X_test)\n",
    "\n",
    "# Confusion matrix and classification report\n",
    "print(confusion_matrix(y_test, pred))\n",
    "print(classification_report(y_test, pred))"
   ]
  },
  {
   "cell_type": "code",
   "execution_count": 14,
   "metadata": {},
   "outputs": [
    {
     "name": "stdout",
     "output_type": "stream",
     "text": [
      "Testing Accuracy for Decision Tree Classifier: 96.91%\n"
     ]
    }
   ],
   "source": [
    "print(\"Testing Accuracy for Decision Tree Classifier: {:.4}%\".format(accuracy_score(y_test, pred) * 100))"
   ]
  },
  {
   "cell_type": "code",
   "execution_count": 70,
   "metadata": {},
   "outputs": [],
   "source": [
    "def DTC():\n",
    "    \n",
    "    '''\n",
    "    runs a DecisionTreeClassifier on the test data\n",
    "    returns accuracy and predictions given the classifier\n",
    "    \n",
    "    '''\n",
    "    tree_clf = DecisionTreeClassifier(criterion = 'gini', max_depth=5)\n",
    "    tree_clf.fit(X_train, y_train)\n",
    "    tree_clf.feature_importances_\n",
    "\n",
    "    dt_cv_score = cross_val_score(tree_clf, X_train, y_train, cv=3)\n",
    "    mean_dt_cv_score = np.mean(dt_cv_score)\n",
    "    \n",
    "    pred = tree_clf.predict(X_test)\n",
    "    \n",
    "    return(round(accuracy_score(y_test, pred) * 100, 4))\n"
   ]
  },
  {
   "cell_type": "markdown",
   "metadata": {},
   "source": [
    "# Bagged Trees"
   ]
  },
  {
   "cell_type": "code",
   "execution_count": 15,
   "metadata": {},
   "outputs": [
    {
     "data": {
      "text/plain": [
       "BaggingClassifier(base_estimator=DecisionTreeClassifier(class_weight=None,\n",
       "                                                        criterion='gini',\n",
       "                                                        max_depth=5,\n",
       "                                                        max_features=None,\n",
       "                                                        max_leaf_nodes=None,\n",
       "                                                        min_impurity_decrease=0.0,\n",
       "                                                        min_impurity_split=None,\n",
       "                                                        min_samples_leaf=1,\n",
       "                                                        min_samples_split=2,\n",
       "                                                        min_weight_fraction_leaf=0.0,\n",
       "                                                        presort=False,\n",
       "                                                        random_state=None,\n",
       "                                                        splitter='best'),\n",
       "                  bootstrap=True, bootstrap_features=False, max_features=1.0,\n",
       "                  max_samples=1.0, n_estimators=20, n_jobs=None,\n",
       "                  oob_score=False, random_state=None, verbose=0,\n",
       "                  warm_start=False)"
      ]
     },
     "execution_count": 15,
     "metadata": {},
     "output_type": "execute_result"
    }
   ],
   "source": [
    "bagged_tree =  BaggingClassifier(DecisionTreeClassifier(criterion='gini', max_depth=5), \n",
    "                                 n_estimators=20)\n",
    "bagged_tree.fit(X_train, y_train)"
   ]
  },
  {
   "cell_type": "code",
   "execution_count": 17,
   "metadata": {},
   "outputs": [
    {
     "name": "stdout",
     "output_type": "stream",
     "text": [
      "[[21302   561]\n",
      " [  496 21393]]\n",
      "              precision    recall  f1-score   support\n",
      "\n",
      "           0       0.98      0.97      0.98     21863\n",
      "           1       0.97      0.98      0.98     21889\n",
      "\n",
      "    accuracy                           0.98     43752\n",
      "   macro avg       0.98      0.98      0.98     43752\n",
      "weighted avg       0.98      0.98      0.98     43752\n",
      "\n"
     ]
    }
   ],
   "source": [
    "# Test set predictions\n",
    "treepred = bagged_tree.predict(X_test)\n",
    "\n",
    "# Confusion matrix and classification report\n",
    "print(confusion_matrix(y_test, treepred))\n",
    "print(classification_report(y_test, treepred))"
   ]
  },
  {
   "cell_type": "code",
   "execution_count": 58,
   "metadata": {},
   "outputs": [
    {
     "name": "stdout",
     "output_type": "stream",
     "text": [
      "Testing Accuracy for Bagged Tree: 97.58%\n"
     ]
    }
   ],
   "source": [
    "print(\"Testing Accuracy for Bagged Tree: {:.4}%\".format(accuracy_score(y_test, treepred) * 100))"
   ]
  },
  {
   "cell_type": "code",
   "execution_count": 71,
   "metadata": {},
   "outputs": [],
   "source": [
    "def bt():\n",
    "    bagged_tree =  BaggingClassifier(DecisionTreeClassifier(criterion='gini', max_depth=5), \n",
    "                                     n_estimators=20)\n",
    "    bagged_tree.fit(X_train, y_train)\n",
    "    treepred = bagged_tree.predict(X_test)\n",
    "    return(round(accuracy_score(y_test, treepred) * 100, 4))"
   ]
  },
  {
   "cell_type": "markdown",
   "metadata": {},
   "source": [
    "# Random Forest"
   ]
  },
  {
   "cell_type": "code",
   "execution_count": 18,
   "metadata": {},
   "outputs": [
    {
     "data": {
      "text/plain": [
       "RandomForestClassifier(bootstrap=True, class_weight=None, criterion='gini',\n",
       "                       max_depth=5, max_features='auto', max_leaf_nodes=None,\n",
       "                       min_impurity_decrease=0.0, min_impurity_split=None,\n",
       "                       min_samples_leaf=1, min_samples_split=2,\n",
       "                       min_weight_fraction_leaf=0.0, n_estimators=100,\n",
       "                       n_jobs=None, oob_score=False, random_state=None,\n",
       "                       verbose=0, warm_start=False)"
      ]
     },
     "execution_count": 18,
     "metadata": {},
     "output_type": "execute_result"
    }
   ],
   "source": [
    "forest = RandomForestClassifier(n_estimators=100, max_depth= 5)\n",
    "forest.fit(X_train, y_train)"
   ]
  },
  {
   "cell_type": "code",
   "execution_count": 20,
   "metadata": {},
   "outputs": [
    {
     "name": "stdout",
     "output_type": "stream",
     "text": [
      "0.9572133845309929\n",
      "0.9557277381605412\n",
      "[[20844  1019]\n",
      " [  918 20971]]\n",
      "              precision    recall  f1-score   support\n",
      "\n",
      "           0       0.96      0.95      0.96     21863\n",
      "           1       0.95      0.96      0.96     21889\n",
      "\n",
      "    accuracy                           0.96     43752\n",
      "   macro avg       0.96      0.96      0.96     43752\n",
      "weighted avg       0.96      0.96      0.96     43752\n",
      "\n"
     ]
    }
   ],
   "source": [
    "# we actually did worse with a random forest.\n",
    "\n",
    "print(forest.score(X_train, y_train))\n",
    "print(forest.score(X_test, y_test))\n",
    "\n",
    "# Test set predictions\n",
    "fpred = forest.predict(X_test)\n",
    "\n",
    "# Confusion matrix and classification report\n",
    "print(confusion_matrix(y_test, fpred))\n",
    "print(classification_report(y_test, fpred))"
   ]
  },
  {
   "cell_type": "code",
   "execution_count": 21,
   "metadata": {},
   "outputs": [
    {
     "data": {
      "text/plain": [
       "RandomForestClassifier(bootstrap=True, class_weight=None, criterion='gini',\n",
       "                       max_depth=2, max_features=10, max_leaf_nodes=None,\n",
       "                       min_impurity_decrease=0.0, min_impurity_split=None,\n",
       "                       min_samples_leaf=1, min_samples_split=2,\n",
       "                       min_weight_fraction_leaf=0.0, n_estimators=5,\n",
       "                       n_jobs=None, oob_score=False, random_state=None,\n",
       "                       verbose=0, warm_start=False)"
      ]
     },
     "execution_count": 21,
     "metadata": {},
     "output_type": "execute_result"
    }
   ],
   "source": [
    "# another forest, and we'll take a look at invidual trees\n",
    "\n",
    "forest_2 = RandomForestClassifier(n_estimators = 5, max_features= 10, max_depth= 2)\n",
    "forest_2.fit(X_train, y_train)"
   ]
  },
  {
   "cell_type": "code",
   "execution_count": 24,
   "metadata": {},
   "outputs": [],
   "source": [
    "rf_tree_2 = forest_2.estimators_[1]"
   ]
  },
  {
   "cell_type": "code",
   "execution_count": 25,
   "metadata": {},
   "outputs": [
    {
     "data": {
      "image/png": "[encoded data removed]",
      "text/plain": [
       "<Figure size 576x576 with 1 Axes>"
      ]
     },
     "metadata": {
      "needs_background": "light"
     },
     "output_type": "display_data"
    }
   ],
   "source": [
    "plot_feature_importances(rf_tree_2)"
   ]
  },
  {
   "cell_type": "code",
   "execution_count": 61,
   "metadata": {},
   "outputs": [],
   "source": [
    "def rf():\n",
    "    forest = RandomForestClassifier(n_estimators=100, max_depth= 5)\n",
    "    forest.fit(X_train, y_train)\n",
    "    \n",
    "    forest_pred = forest.predict(X_test)\n",
    "    \n",
    "    return(round(accuracy_score(y_test, forest_pred) * 100, 4))"
   ]
  },
  {
   "cell_type": "markdown",
   "metadata": {},
   "source": [
    "# GridSearch"
   ]
  },
  {
   "cell_type": "code",
   "execution_count": 26,
   "metadata": {},
   "outputs": [],
   "source": [
    "dt_param_grid = {\n",
    "    'criterion': ['gini', 'entropy'],\n",
    "    'max_depth': [None, 2, 3, 4, 5, 6],\n",
    "    'min_samples_split': [2, 5, 10],\n",
    "    'min_samples_leaf': [1, 2, 3, 4, 5, 6]\n",
    "}"
   ]
  },
  {
   "cell_type": "code",
   "execution_count": 27,
   "metadata": {},
   "outputs": [
    {
     "name": "stdout",
     "output_type": "stream",
     "text": [
      "Fitting 3 folds for each of 216 candidates, totalling 648 fits\n"
     ]
    },
    {
     "name": "stderr",
     "output_type": "stream",
     "text": [
      "[Parallel(n_jobs=-1)]: Using backend LokyBackend with 4 concurrent workers.\n",
      "[Parallel(n_jobs=-1)]: Done  42 tasks      | elapsed:   21.9s\n",
      "[Parallel(n_jobs=-1)]: Done 192 tasks      | elapsed:   46.7s\n",
      "[Parallel(n_jobs=-1)]: Done 442 tasks      | elapsed:  2.0min\n",
      "[Parallel(n_jobs=-1)]: Done 648 out of 648 | elapsed:  3.2min finished\n"
     ]
    },
    {
     "data": {
      "text/plain": [
       "GridSearchCV(cv=3, error_score='raise-deprecating',\n",
       "             estimator=DecisionTreeClassifier(class_weight=None,\n",
       "                                              criterion='gini', max_depth=5,\n",
       "                                              max_features=None,\n",
       "                                              max_leaf_nodes=None,\n",
       "                                              min_impurity_decrease=0.0,\n",
       "                                              min_impurity_split=None,\n",
       "                                              min_samples_leaf=1,\n",
       "                                              min_samples_split=2,\n",
       "                                              min_weight_fraction_leaf=0.0,\n",
       "                                              presort=False, random_state=None,\n",
       "                                              splitter='best'),\n",
       "             iid='warn', n_jobs=-1,\n",
       "             param_grid={'criterion': ['gini', 'entropy'],\n",
       "                         'max_depth': [None, 2, 3, 4, 5, 6],\n",
       "                         'min_samples_leaf': [1, 2, 3, 4, 5, 6],\n",
       "                         'min_samples_split': [2, 5, 10]},\n",
       "             pre_dispatch='2*n_jobs', refit=True, return_train_score=True,\n",
       "             scoring=None, verbose=1)"
      ]
     },
     "execution_count": 27,
     "metadata": {},
     "output_type": "execute_result"
    }
   ],
   "source": [
    "dt_grid_search = GridSearchCV(tree_clf, dt_param_grid, cv=3, return_train_score=True, verbose = 1, n_jobs=-1)\n",
    "\n",
    "dt_grid_search.fit(X_train, y_train)"
   ]
  },
  {
   "cell_type": "code",
   "execution_count": 28,
   "metadata": {},
   "outputs": [
    {
     "name": "stdout",
     "output_type": "stream",
     "text": [
      "Mean Training Score: 94.64%\n",
      "Mean Test Score: 97.44%\n",
      "Best Parameter Combination Found During Grid Search:\n"
     ]
    },
    {
     "data": {
      "text/plain": [
       "{'criterion': 'gini',\n",
       " 'max_depth': 6,\n",
       " 'min_samples_leaf': 3,\n",
       " 'min_samples_split': 2}"
      ]
     },
     "execution_count": 28,
     "metadata": {},
     "output_type": "execute_result"
    }
   ],
   "source": [
    "dt_gs_training_score = np.mean(dt_grid_search.cv_results_['mean_train_score'])\n",
    "\n",
    "# Mean test score\n",
    "dt_gs_testing_score = dt_grid_search.score(X_test, y_test)\n",
    "\n",
    "print(f\"Mean Training Score: {dt_gs_training_score :.2%}\")\n",
    "print(f\"Mean Test Score: {dt_gs_testing_score :.2%}\")\n",
    "print(\"Best Parameter Combination Found During Grid Search:\")\n",
    "dt_grid_search.best_params_"
   ]
  },
  {
   "cell_type": "code",
   "execution_count": 29,
   "metadata": {},
   "outputs": [
    {
     "name": "stdout",
     "output_type": "stream",
     "text": [
      "[[21278   585]\n",
      " [  535 21354]]\n",
      "              precision    recall  f1-score   support\n",
      "\n",
      "           0       0.98      0.97      0.97     21863\n",
      "           1       0.97      0.98      0.97     21889\n",
      "\n",
      "    accuracy                           0.97     43752\n",
      "   macro avg       0.97      0.97      0.97     43752\n",
      "weighted avg       0.97      0.97      0.97     43752\n",
      "\n"
     ]
    }
   ],
   "source": [
    "# Test set predictions\n",
    "gspred = dt_grid_search.predict(X_test)\n",
    "\n",
    "# Confusion matrix and classification report\n",
    "print(confusion_matrix(y_test, gspred))\n",
    "print(classification_report(y_test, gspred))"
   ]
  },
  {
   "cell_type": "code",
   "execution_count": 65,
   "metadata": {},
   "outputs": [],
   "source": [
    "def gs_tree():\n",
    "    dt_param_grid = {\n",
    "        'criterion': ['gini', 'entropy'],\n",
    "        'max_depth': [None, 2, 3, 4, 5, 6],\n",
    "        'min_samples_split': [2, 5, 10],\n",
    "        'min_samples_leaf': [1, 2, 3, 4, 5, 6]\n",
    "        }\n",
    "    dt_grid_search = GridSearchCV(tree_clf, dt_param_grid, cv=3, return_train_score=True, verbose = 1, n_jobs=-1)\n",
    "\n",
    "    dt_grid_search.fit(X_train, y_train)\n",
    "    print(\"Best Parameter Combination Found During Grid Search:\")\n",
    "    print(dt_grid_search.best_params_)\n",
    "    gstree_pred = dt_grid_search.predict(X_test)\n",
    "    return(round(accuracy_score(y_test, gstree_pred) * 100, 4))"
   ]
  },
  {
   "cell_type": "code",
   "execution_count": null,
   "metadata": {},
   "outputs": [],
   "source": [
    "# Gridsearch with random forest classifier"
   ]
  },
  {
   "cell_type": "code",
   "execution_count": null,
   "metadata": {},
   "outputs": [],
   "source": [
    "rf_param_grid = {\n",
    "    'n_estimators': [10, 30, 100],\n",
    "    'criterion': ['gini', 'entropy'],\n",
    "    'max_depth': [None, 2, 6, 10],\n",
    "    'min_samples_split': [5, 10],\n",
    "    'min_samples_leaf': [3, 6]\n",
    "}"
   ]
  },
  {
   "cell_type": "code",
   "execution_count": null,
   "metadata": {},
   "outputs": [],
   "source": [
    "rf_clf = RandomForestClassifier(n_estimators = 5, max_features= 10, max_depth= 5)\n",
    "mean_rf_cv_score = np.mean(cross_val_score(rf_clf, X_train, y_train, cv = 3))"
   ]
  },
  {
   "cell_type": "code",
   "execution_count": null,
   "metadata": {},
   "outputs": [],
   "source": [
    "rf_grid_search = GridSearchCV(rf_clf, rf_param_grid, cv=3, verbose=3, n_jobs=-1, return_train_score=True)\n",
    "rf_grid_search.fit(X_train, y_train)"
   ]
  },
  {
   "cell_type": "code",
   "execution_count": null,
   "metadata": {},
   "outputs": [],
   "source": [
    "# Mean training and testing score\n",
    "rf_gs_training_score = np.mean(rf_grid_search.cv_results_['mean_train_score'])\n",
    "rf_gs_testing_score = rf_grid_search.score(X_test, y_test)\n",
    "\n",
    "print(f\"Mean Training Score: {rf_gs_training_score :.2%}\")\n",
    "print(f\"Mean Test Score: {rf_gs_testing_score :.2%}\")\n",
    "print(f\"Training Accuracy: {rf_grid_search.best_score_ :.2%}\")\n",
    "print(\"\")\n",
    "print(f\"Optimal Parameters: {rf_grid_search.best_params_}\")"
   ]
  },
  {
   "cell_type": "code",
   "execution_count": null,
   "metadata": {},
   "outputs": [],
   "source": [
    "def gs_forest():\n",
    "    \n",
    "    rf_param_grid = {\n",
    "        'n_estimators': [10, 30, 100],\n",
    "        'criterion': ['gini', 'entropy'],\n",
    "        'max_depth': [None, 2, 6, 10],\n",
    "        'min_samples_split': [5, 10],\n",
    "        'min_samples_leaf': [3, 6]\n",
    "    }\n",
    "    rf_clf = RandomForestClassifier(n_estimators = 5, max_features= 10, max_depth= 5)\n",
    "    rf_grid_search = GridSearchCV(rf_clf, rf_param_grid, cv=3, verbose=3, n_jobs=-1, return_train_score=True)\n",
    "    rf_grid_search.fit(X_train, y_train)\n",
    "    print(f\"Optimal Parameters: {rf_grid_search.best_params_}\")\n",
    "    return (round(rf_grid_search.best_score_, 4)*100)"
   ]
  },
  {
   "cell_type": "markdown",
   "metadata": {},
   "source": [
    "# Optimal Model\n",
    "Running our Optimal Parameters gives us an accuracy score of 97.75%\n",
    "\n",
    "Optimal Parameters: {'criterion': 'entropy', 'max_depth': 10, \n",
    "'min_samples_leaf': 3,'min_samples_split': 5, 'n_estimators': 30}"
   ]
  },
  {
   "cell_type": "code",
   "execution_count": 37,
   "metadata": {},
   "outputs": [
    {
     "data": {
      "text/plain": [
       "RandomForestClassifier(bootstrap=True, class_weight=None, criterion='entropy',\n",
       "                       max_depth=10, max_features='auto', max_leaf_nodes=None,\n",
       "                       min_impurity_decrease=0.0, min_impurity_split=None,\n",
       "                       min_samples_leaf=3, min_samples_split=5,\n",
       "                       min_weight_fraction_leaf=0.0, n_estimators=30,\n",
       "                       n_jobs=None, oob_score=False, random_state=None,\n",
       "                       verbose=0, warm_start=False)"
      ]
     },
     "execution_count": 37,
     "metadata": {},
     "output_type": "execute_result"
    }
   ],
   "source": [
    "optimal_forest = RandomForestClassifier(criterion = 'entropy', \n",
    "                                max_depth = 10, \n",
    "                                min_samples_leaf = 3, \n",
    "                                min_samples_split = 5, \n",
    "                                n_estimators = 30)\n",
    "optimal_forest.fit(X_train, y_train)"
   ]
  },
  {
   "cell_type": "code",
   "execution_count": 38,
   "metadata": {},
   "outputs": [
    {
     "data": {
      "image/png": "[encoded data removed]",
      "text/plain": [
       "<Figure size 576x576 with 1 Axes>"
      ]
     },
     "metadata": {
      "needs_background": "light"
     },
     "output_type": "display_data"
    }
   ],
   "source": [
    "# plot of our feature importances\n",
    "plot_feature_importances(optimal_forest)"
   ]
  },
  {
   "cell_type": "code",
   "execution_count": null,
   "metadata": {},
   "outputs": [],
   "source": [
    "# optimal_forest.predict_proba(X_test)"
   ]
  },
  {
   "cell_type": "code",
   "execution_count": 39,
   "metadata": {},
   "outputs": [
    {
     "name": "stdout",
     "output_type": "stream",
     "text": [
      "[[21328   535]\n",
      " [  530 21359]]\n",
      "              precision    recall  f1-score   support\n",
      "\n",
      "           0       0.98      0.98      0.98     21863\n",
      "           1       0.98      0.98      0.98     21889\n",
      "\n",
      "    accuracy                           0.98     43752\n",
      "   macro avg       0.98      0.98      0.98     43752\n",
      "weighted avg       0.98      0.98      0.98     43752\n",
      "\n"
     ]
    }
   ],
   "source": [
    "# Test set predictions\n",
    "optimal_predictions = optimal_forest.predict(X_test)\n",
    "\n",
    "# Confusion matrix and classification report\n",
    "print(confusion_matrix(y_test, optimal_predictions))\n",
    "print(classification_report(y_test, optimal_predictions))"
   ]
  },
  {
   "cell_type": "code",
   "execution_count": 42,
   "metadata": {},
   "outputs": [
    {
     "data": {
      "text/plain": [
       "array([0.00663674, 0.00421334, 0.00654811, 0.01609632, 0.00249258,\n",
       "       0.10436092, 0.01736034, 0.02505283, 0.2917244 , 0.4168209 ,\n",
       "       0.00517564, 0.0033535 , 0.04834048, 0.01252946, 0.02556969,\n",
       "       0.00525625, 0.00846848])"
      ]
     },
     "execution_count": 42,
     "metadata": {},
     "output_type": "execute_result"
    }
   ],
   "source": [
    "optimal_forest.feature_importances_"
   ]
  },
  {
   "cell_type": "markdown",
   "metadata": {},
   "source": [
    "The Gauntlet"
   ]
  },
  {
   "cell_type": "code",
   "execution_count": null,
   "metadata": {},
   "outputs": [
    {
     "name": "stdout",
     "output_type": "stream",
     "text": [
      "Decision Tree Classifier:  96.9144\n",
      "Bagged Tree:  97.5567\n"
     ]
    }
   ],
   "source": [
    "print ('Accuracy Scores: ')\n",
    "print ('Decision Tree Classifier: ', DTC())\n",
    "print ('Bagged Tree: ', bt())\n",
    "print ('Random Forest: ', rf())\n",
    "print ('Grid Search with Tree Classifier: ', gs_tree())\n",
    "# print ('Grid Search with Random Forest: ', gs_forest())\n"
   ]
  },
  {
   "cell_type": "code",
   "execution_count": null,
   "metadata": {},
   "outputs": [],
   "source": []
  }
 ],
 "metadata": {
  "kernelspec": {
   "display_name": "Python 3",
   "language": "python",
   "name": "python3"
  },
  "language_info": {
   "codemirror_mode": {
    "name": "ipython",
    "version": 3
   },
   "file_extension": ".py",
   "mimetype": "text/x-python",
   "name": "python",
   "nbconvert_exporter": "python",
   "pygments_lexer": "ipython3",
   "version": "3.7.3"
  }
 },
 "nbformat": 4,
 "nbformat_minor": 2
}
