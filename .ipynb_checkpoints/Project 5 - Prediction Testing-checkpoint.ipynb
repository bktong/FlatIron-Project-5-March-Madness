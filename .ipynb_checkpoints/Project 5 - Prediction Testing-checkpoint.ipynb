{
 "cells": [
  {
   "cell_type": "code",
   "execution_count": 38,
   "metadata": {},
   "outputs": [],
   "source": [
    "# Import our libraries.\n",
    "\n",
    "import pandas as pd\n",
    "import numpy as np\n",
    "from sklearn.metrics import log_loss\n",
    "from itertools import combinations\n",
    "import seaborn as sns\n",
    "\n",
    "import matplotlib.pyplot as plt\n",
    "\n",
    "carolinaBlue = 'deepskyblue'  # because d00k sucks"
   ]
  },
  {
   "cell_type": "code",
   "execution_count": 2,
   "metadata": {},
   "outputs": [],
   "source": [
    "folder = \"2020DataFiles/2020-Mens-Data/MDataFiles_Stage1/\""
   ]
  },
  {
   "cell_type": "markdown",
   "metadata": {},
   "source": [
    "# Formatting\n",
    "\n",
    "Per the Kaggle Competition (https://www.kaggle.com/c/mens-machine-learning-competition-2019)\n",
    "\n",
    "Submission for the ML competition are submitted as a prediction using the following format.\n",
    "\n",
    "The resulting submission format looks like the following, where \"pred\" represents the predicted probability that the first team will win\n",
    "id,pred\n",
    "2014_1107_1110,0.5\n",
    "2014_1107_1112,0.5 \n",
    "2014_1107_1113,0.5\n",
    "\n",
    "yyyy_WTeamID_LTeamID, predicted_probability"
   ]
  },
  {
   "cell_type": "markdown",
   "metadata": {},
   "source": [
    "# LogLoss Evaluation\n",
    "\n",
    "https://www.kaggle.com/c/mens-machine-learning-competition-2019/overview/evaluation\n",
    "\n",
    "Kaggle uses a LogLoss to evaluate the submissions.\n",
    "\n"
   ]
  },
  {
   "cell_type": "code",
   "execution_count": 3,
   "metadata": {},
   "outputs": [
    {
     "data": {
      "text/plain": [
       "0.6931471805599453"
      ]
     },
     "execution_count": 3,
     "metadata": {},
     "output_type": "execute_result"
    }
   ],
   "source": [
    "# running logloss on a test set\n",
    "\n",
    "test_label = [1,1,0,0,1,1,0,0]\n",
    "test_predicted = [.5,.5,.5,.5,.5,.5,.5,.5]\n",
    "\n",
    "log_loss(test_label, test_predicted, eps = 1e-15)"
   ]
  },
  {
   "cell_type": "code",
   "execution_count": 4,
   "metadata": {},
   "outputs": [],
   "source": [
    "# ok, so we need to pass in an array of 1's and 0's based on whether we were right.\n",
    "# and then pass in our confidence.\n"
   ]
  },
  {
   "cell_type": "markdown",
   "metadata": {},
   "source": [
    "# Creating a Baseline\n",
    "\n",
    "I figured a good baseline to try to beat is running a model where the higher seed won every game."
   ]
  },
  {
   "cell_type": "code",
   "execution_count": 5,
   "metadata": {},
   "outputs": [],
   "source": [
    "# Load Data.\n",
    "Results = pd.read_csv(folder + \"MNCAATourneyCompactResults.csv\")\n",
    "df_Seeds = pd.read_csv(folder + \"MNCAATourneySeeds.csv\")"
   ]
  },
  {
   "cell_type": "code",
   "execution_count": 6,
   "metadata": {},
   "outputs": [],
   "source": [
    "# we need a quick and dirty function to convert Seed from its current format to an int.\n",
    " \n",
    "def convertSeed(seed):\n",
    "    '''Convert Seed from String to Int.\n",
    "     so \"W01\" --> is 1, with the advent of the play in games, \n",
    "     we only care about 2nd and 3rd positions in the string.'''\n",
    "    \n",
    "    return (int(seed[1:3]))"
   ]
  },
  {
   "cell_type": "code",
   "execution_count": 7,
   "metadata": {},
   "outputs": [],
   "source": [
    "# run conversion\n",
    "\n",
    "df_Seeds['SeedInt'] = df_Seeds['Seed'].apply(convertSeed)"
   ]
  },
  {
   "cell_type": "code",
   "execution_count": 8,
   "metadata": {},
   "outputs": [
    {
     "name": "stdout",
     "output_type": "stream",
     "text": [
      "   Season Seed  TeamID  SeedInt\n",
      "0    1985  W01    1207        1\n",
      "1    1985  W02    1210        2\n",
      "   Season  DayNum  WTeamID  WScore  LTeamID  LScore WLoc  NumOT\n",
      "0    1985     136     1116      63     1234      54    N      0\n",
      "1    1985     136     1120      59     1345      58    N      0\n"
     ]
    }
   ],
   "source": [
    "print(df_Seeds.head(2))\n",
    "print(Results.head(2))"
   ]
  },
  {
   "cell_type": "markdown",
   "metadata": {},
   "source": [
    "We need to convert the seeds into an comparable integer and then merge the two databases together.\n"
   ]
  },
  {
   "cell_type": "code",
   "execution_count": 9,
   "metadata": {},
   "outputs": [],
   "source": [
    "# split our two df's.  Rename once for winning seeds, once for losing seeds.\n",
    "# every now and then I wish we had a nice vlookup in pandas.\n",
    "\n",
    "winners = df_Seeds.rename(columns = {'TeamID':'WTeamID', 'SeedInt':'WSeed'}) \n",
    "df_merged = pd.merge(left = Results, right = winners, how = 'left', \n",
    "                    on=['Season', 'WTeamID' ])\n",
    "\n",
    "losers = df_Seeds.rename(columns = {'TeamID':'LTeamID', 'SeedInt':'LSeed'}) \n",
    "df_merged = pd.merge(left = df_merged, right = losers, how = 'left', \n",
    "                    on=['Season', 'LTeamID' ])\n",
    "\n",
    "# dropping more useless columns post merge\n",
    "\n",
    "df_merged = df_merged.drop(columns=['Seed_x', 'Seed_y'])"
   ]
  },
  {
   "cell_type": "code",
   "execution_count": 10,
   "metadata": {},
   "outputs": [
    {
     "data": {
      "text/html": [
       "<div>\n",
       "<style scoped>\n",
       "    .dataframe tbody tr th:only-of-type {\n",
       "        vertical-align: middle;\n",
       "    }\n",
       "\n",
       "    .dataframe tbody tr th {\n",
       "        vertical-align: top;\n",
       "    }\n",
       "\n",
       "    .dataframe thead th {\n",
       "        text-align: right;\n",
       "    }\n",
       "</style>\n",
       "<table border=\"1\" class=\"dataframe\">\n",
       "  <thead>\n",
       "    <tr style=\"text-align: right;\">\n",
       "      <th></th>\n",
       "      <th>Season</th>\n",
       "      <th>DayNum</th>\n",
       "      <th>WTeamID</th>\n",
       "      <th>WScore</th>\n",
       "      <th>LTeamID</th>\n",
       "      <th>LScore</th>\n",
       "      <th>WLoc</th>\n",
       "      <th>NumOT</th>\n",
       "      <th>WSeed</th>\n",
       "      <th>LSeed</th>\n",
       "      <th>Hwin</th>\n",
       "      <th>Pred_50</th>\n",
       "    </tr>\n",
       "  </thead>\n",
       "  <tbody>\n",
       "    <tr>\n",
       "      <th>0</th>\n",
       "      <td>1985</td>\n",
       "      <td>136</td>\n",
       "      <td>1116</td>\n",
       "      <td>63</td>\n",
       "      <td>1234</td>\n",
       "      <td>54</td>\n",
       "      <td>N</td>\n",
       "      <td>0</td>\n",
       "      <td>9</td>\n",
       "      <td>8</td>\n",
       "      <td>False</td>\n",
       "      <td>0.5</td>\n",
       "    </tr>\n",
       "    <tr>\n",
       "      <th>1</th>\n",
       "      <td>1985</td>\n",
       "      <td>136</td>\n",
       "      <td>1120</td>\n",
       "      <td>59</td>\n",
       "      <td>1345</td>\n",
       "      <td>58</td>\n",
       "      <td>N</td>\n",
       "      <td>0</td>\n",
       "      <td>11</td>\n",
       "      <td>6</td>\n",
       "      <td>False</td>\n",
       "      <td>0.5</td>\n",
       "    </tr>\n",
       "    <tr>\n",
       "      <th>2</th>\n",
       "      <td>1985</td>\n",
       "      <td>136</td>\n",
       "      <td>1207</td>\n",
       "      <td>68</td>\n",
       "      <td>1250</td>\n",
       "      <td>43</td>\n",
       "      <td>N</td>\n",
       "      <td>0</td>\n",
       "      <td>1</td>\n",
       "      <td>16</td>\n",
       "      <td>True</td>\n",
       "      <td>0.5</td>\n",
       "    </tr>\n",
       "    <tr>\n",
       "      <th>3</th>\n",
       "      <td>1985</td>\n",
       "      <td>136</td>\n",
       "      <td>1229</td>\n",
       "      <td>58</td>\n",
       "      <td>1425</td>\n",
       "      <td>55</td>\n",
       "      <td>N</td>\n",
       "      <td>0</td>\n",
       "      <td>9</td>\n",
       "      <td>8</td>\n",
       "      <td>False</td>\n",
       "      <td>0.5</td>\n",
       "    </tr>\n",
       "    <tr>\n",
       "      <th>4</th>\n",
       "      <td>1985</td>\n",
       "      <td>136</td>\n",
       "      <td>1242</td>\n",
       "      <td>49</td>\n",
       "      <td>1325</td>\n",
       "      <td>38</td>\n",
       "      <td>N</td>\n",
       "      <td>0</td>\n",
       "      <td>3</td>\n",
       "      <td>14</td>\n",
       "      <td>True</td>\n",
       "      <td>0.5</td>\n",
       "    </tr>\n",
       "  </tbody>\n",
       "</table>\n",
       "</div>"
      ],
      "text/plain": [
       "   Season  DayNum  WTeamID  WScore  LTeamID  LScore WLoc  NumOT  WSeed  LSeed  \\\n",
       "0    1985     136     1116      63     1234      54    N      0      9      8   \n",
       "1    1985     136     1120      59     1345      58    N      0     11      6   \n",
       "2    1985     136     1207      68     1250      43    N      0      1     16   \n",
       "3    1985     136     1229      58     1425      55    N      0      9      8   \n",
       "4    1985     136     1242      49     1325      38    N      0      3     14   \n",
       "\n",
       "    Hwin  Pred_50  \n",
       "0  False      0.5  \n",
       "1  False      0.5  \n",
       "2   True      0.5  \n",
       "3  False      0.5  \n",
       "4   True      0.5  "
      ]
     },
     "execution_count": 10,
     "metadata": {},
     "output_type": "execute_result"
    }
   ],
   "source": [
    "# HWin is our target, 1 if lower(better) seed won\n",
    "# we will use a 50% predicted probability as baseline\n",
    "\n",
    "df_merged['Hwin'] = (df_merged['WSeed']<=df_merged['LSeed'])\n",
    "df_merged['Pred_50'] = 0.50\n",
    "df_merged.head()"
   ]
  },
  {
   "cell_type": "code",
   "execution_count": 11,
   "metadata": {},
   "outputs": [
    {
     "name": "stdout",
     "output_type": "stream",
     "text": [
      "2010 : 0.6931471805599453\n",
      "2011 : 0.6931471805599454\n",
      "2012 : 0.6931471805599454\n",
      "2013 : 0.6931471805599454\n",
      "2014 : 0.6931471805599454\n",
      "2015 : 0.6931471805599454\n",
      "2016 : 0.6931471805599454\n",
      "2017 : 0.6931471805599454\n",
      "2018 : 0.6931471805599454\n",
      "2019 : 0.6931471805599454\n"
     ]
    }
   ],
   "source": [
    "# lets see how that scores over last 10 years\n",
    "for i in range(2010, 2020):\n",
    "    score = df_merged[df_merged['Season']==i]\n",
    "    print(str(i) + \" : \" + str(log_loss(score['Hwin'], score['Pred_50'], eps = 1e-15)))"
   ]
  },
  {
   "cell_type": "code",
   "execution_count": 12,
   "metadata": {},
   "outputs": [],
   "source": [
    "pred_2019 = df_merged[df_merged['Season']==2019].drop(columns=['Season', 'DayNum', 'WTeamID', \n",
    "                                                               'WScore', 'LTeamID', 'LScore', 'WLoc',\n",
    "                                                               'NumOT', 'WSeed', 'LSeed'])"
   ]
  },
  {
   "cell_type": "code",
   "execution_count": 13,
   "metadata": {},
   "outputs": [],
   "source": [
    "# create inputs to chart LogLoss \n",
    "\n",
    "x = []\n",
    "y = []\n",
    "for i in np.arange(.05 , .95 , 0.025):\n",
    "    pred_2019['Pred_50'] = i\n",
    "    x.append(i)\n",
    "    y.append(log_loss(pred_2019['Hwin'], pred_2019['Pred_50'], eps = 1e-15))"
   ]
  },
  {
   "cell_type": "code",
   "execution_count": 14,
   "metadata": {},
   "outputs": [
    {
     "data": {
      "image/png": "[encoded data removed]",
      "text/plain": [
       "<Figure size 432x288 with 1 Axes>"
      ]
     },
     "metadata": {
      "needs_background": "light"
     },
     "output_type": "display_data"
    }
   ],
   "source": [
    "\n",
    "plt.scatter(x, y)\n",
    "plt.title('2019 logloss curve picking higher ranked team')\n",
    "plt.ylabel('LogLoss')\n",
    "plt.xlabel('Predicted Value')\n",
    "plt.show()"
   ]
  },
  {
   "cell_type": "markdown",
   "metadata": {},
   "source": [
    "# Predictions\n",
    "\n",
    "Using Seed Differential\n",
    "Using Per Game Stats"
   ]
  },
  {
   "cell_type": "code",
   "execution_count": 15,
   "metadata": {},
   "outputs": [
    {
     "data": {
      "text/html": [
       "<div>\n",
       "<style scoped>\n",
       "    .dataframe tbody tr th:only-of-type {\n",
       "        vertical-align: middle;\n",
       "    }\n",
       "\n",
       "    .dataframe tbody tr th {\n",
       "        vertical-align: top;\n",
       "    }\n",
       "\n",
       "    .dataframe thead th {\n",
       "        text-align: right;\n",
       "    }\n",
       "</style>\n",
       "<table border=\"1\" class=\"dataframe\">\n",
       "  <thead>\n",
       "    <tr style=\"text-align: right;\">\n",
       "      <th></th>\n",
       "      <th>Season</th>\n",
       "      <th>DayNum</th>\n",
       "      <th>WTeamID</th>\n",
       "      <th>WScore</th>\n",
       "      <th>LTeamID</th>\n",
       "      <th>LScore</th>\n",
       "      <th>WLoc</th>\n",
       "      <th>NumOT</th>\n",
       "      <th>WSeed</th>\n",
       "      <th>LSeed</th>\n",
       "      <th>Hwin</th>\n",
       "      <th>Pred_50</th>\n",
       "      <th>seed_diff</th>\n",
       "      <th>abs_seed_diff</th>\n",
       "    </tr>\n",
       "  </thead>\n",
       "  <tbody>\n",
       "    <tr>\n",
       "      <th>0</th>\n",
       "      <td>1985</td>\n",
       "      <td>136</td>\n",
       "      <td>1116</td>\n",
       "      <td>63</td>\n",
       "      <td>1234</td>\n",
       "      <td>54</td>\n",
       "      <td>N</td>\n",
       "      <td>0</td>\n",
       "      <td>9</td>\n",
       "      <td>8</td>\n",
       "      <td>False</td>\n",
       "      <td>0.5</td>\n",
       "      <td>1</td>\n",
       "      <td>1</td>\n",
       "    </tr>\n",
       "    <tr>\n",
       "      <th>1</th>\n",
       "      <td>1985</td>\n",
       "      <td>136</td>\n",
       "      <td>1120</td>\n",
       "      <td>59</td>\n",
       "      <td>1345</td>\n",
       "      <td>58</td>\n",
       "      <td>N</td>\n",
       "      <td>0</td>\n",
       "      <td>11</td>\n",
       "      <td>6</td>\n",
       "      <td>False</td>\n",
       "      <td>0.5</td>\n",
       "      <td>5</td>\n",
       "      <td>5</td>\n",
       "    </tr>\n",
       "    <tr>\n",
       "      <th>2</th>\n",
       "      <td>1985</td>\n",
       "      <td>136</td>\n",
       "      <td>1207</td>\n",
       "      <td>68</td>\n",
       "      <td>1250</td>\n",
       "      <td>43</td>\n",
       "      <td>N</td>\n",
       "      <td>0</td>\n",
       "      <td>1</td>\n",
       "      <td>16</td>\n",
       "      <td>True</td>\n",
       "      <td>0.5</td>\n",
       "      <td>-15</td>\n",
       "      <td>15</td>\n",
       "    </tr>\n",
       "    <tr>\n",
       "      <th>3</th>\n",
       "      <td>1985</td>\n",
       "      <td>136</td>\n",
       "      <td>1229</td>\n",
       "      <td>58</td>\n",
       "      <td>1425</td>\n",
       "      <td>55</td>\n",
       "      <td>N</td>\n",
       "      <td>0</td>\n",
       "      <td>9</td>\n",
       "      <td>8</td>\n",
       "      <td>False</td>\n",
       "      <td>0.5</td>\n",
       "      <td>1</td>\n",
       "      <td>1</td>\n",
       "    </tr>\n",
       "    <tr>\n",
       "      <th>4</th>\n",
       "      <td>1985</td>\n",
       "      <td>136</td>\n",
       "      <td>1242</td>\n",
       "      <td>49</td>\n",
       "      <td>1325</td>\n",
       "      <td>38</td>\n",
       "      <td>N</td>\n",
       "      <td>0</td>\n",
       "      <td>3</td>\n",
       "      <td>14</td>\n",
       "      <td>True</td>\n",
       "      <td>0.5</td>\n",
       "      <td>-11</td>\n",
       "      <td>11</td>\n",
       "    </tr>\n",
       "  </tbody>\n",
       "</table>\n",
       "</div>"
      ],
      "text/plain": [
       "   Season  DayNum  WTeamID  WScore  LTeamID  LScore WLoc  NumOT  WSeed  LSeed  \\\n",
       "0    1985     136     1116      63     1234      54    N      0      9      8   \n",
       "1    1985     136     1120      59     1345      58    N      0     11      6   \n",
       "2    1985     136     1207      68     1250      43    N      0      1     16   \n",
       "3    1985     136     1229      58     1425      55    N      0      9      8   \n",
       "4    1985     136     1242      49     1325      38    N      0      3     14   \n",
       "\n",
       "    Hwin  Pred_50  seed_diff  abs_seed_diff  \n",
       "0  False      0.5          1              1  \n",
       "1  False      0.5          5              5  \n",
       "2   True      0.5        -15             15  \n",
       "3  False      0.5          1              1  \n",
       "4   True      0.5        -11             11  "
      ]
     },
     "execution_count": 15,
     "metadata": {},
     "output_type": "execute_result"
    }
   ],
   "source": [
    "# basic stats - seed Differential\n",
    "\n",
    "# we need to add columns for seed differential and absolute value of \n",
    "# seed diff so we can calculate the win % given the delta\n",
    "\n",
    "df_merged['seed_diff'] = df_merged['WSeed'] - df_merged['LSeed']\n",
    "df_merged['abs_seed_diff'] = abs(df_merged['seed_diff'])\n",
    "\n",
    "df_merged.head()"
   ]
  },
  {
   "cell_type": "code",
   "execution_count": 16,
   "metadata": {},
   "outputs": [
    {
     "data": {
      "text/html": [
       "<div>\n",
       "<style scoped>\n",
       "    .dataframe tbody tr th:only-of-type {\n",
       "        vertical-align: middle;\n",
       "    }\n",
       "\n",
       "    .dataframe tbody tr th {\n",
       "        vertical-align: top;\n",
       "    }\n",
       "\n",
       "    .dataframe thead th {\n",
       "        text-align: right;\n",
       "    }\n",
       "</style>\n",
       "<table border=\"1\" class=\"dataframe\">\n",
       "  <thead>\n",
       "    <tr style=\"text-align: right;\">\n",
       "      <th></th>\n",
       "      <th>abs_seed_diff</th>\n",
       "      <th>win_rate</th>\n",
       "    </tr>\n",
       "  </thead>\n",
       "  <tbody>\n",
       "    <tr>\n",
       "      <th>0</th>\n",
       "      <td>1</td>\n",
       "      <td>0.539510</td>\n",
       "    </tr>\n",
       "    <tr>\n",
       "      <th>1</th>\n",
       "      <td>5</td>\n",
       "      <td>0.669388</td>\n",
       "    </tr>\n",
       "    <tr>\n",
       "      <th>2</th>\n",
       "      <td>15</td>\n",
       "      <td>0.992857</td>\n",
       "    </tr>\n",
       "    <tr>\n",
       "      <th>3</th>\n",
       "      <td>11</td>\n",
       "      <td>0.868750</td>\n",
       "    </tr>\n",
       "    <tr>\n",
       "      <th>4</th>\n",
       "      <td>7</td>\n",
       "      <td>0.694690</td>\n",
       "    </tr>\n",
       "  </tbody>\n",
       "</table>\n",
       "</div>"
      ],
      "text/plain": [
       "   abs_seed_diff  win_rate\n",
       "0              1  0.539510\n",
       "1              5  0.669388\n",
       "2             15  0.992857\n",
       "3             11  0.868750\n",
       "4              7  0.694690"
      ]
     },
     "execution_count": 16,
     "metadata": {},
     "output_type": "execute_result"
    }
   ],
   "source": [
    "# putting winrates into a table we can use later.\n",
    "win_rates = []\n",
    "\n",
    "for i in df_merged['abs_seed_diff'].unique():\n",
    "    if i==0:\n",
    "        win_rates.append([i, 0.5])\n",
    "    else:\n",
    "        win_rates.append([i, 1 - len(df_merged[df_merged['seed_diff'] == i])/len(df_merged[df_merged['abs_seed_diff'] == i])])\n",
    "\n",
    "df_win = pd.DataFrame(win_rates,  columns=['abs_seed_diff', 'win_rate'])\n",
    "df_win.head()"
   ]
  },
  {
   "cell_type": "code",
   "execution_count": 17,
   "metadata": {},
   "outputs": [],
   "source": [
    "df = pd.merge(df_merged, df_win, on='abs_seed_diff')\n"
   ]
  },
  {
   "cell_type": "code",
   "execution_count": 19,
   "metadata": {},
   "outputs": [
    {
     "data": {
      "text/plain": [
       "0.5156821636852087"
      ]
     },
     "execution_count": 19,
     "metadata": {},
     "output_type": "execute_result"
    }
   ],
   "source": [
    "log_loss(test_2019['Hwin'], test_2019['win_rate'], eps = 1e-15)"
   ]
  },
  {
   "cell_type": "code",
   "execution_count": 53,
   "metadata": {},
   "outputs": [],
   "source": [
    "# lets see how adding a seed diff confidence interval changes our scores over last 10 years\n",
    "years = range(2010,2020)\n",
    "score = []\n",
    "score_seed = []\n",
    "for i in range(2010, 2020):\n",
    "    temp_df = df[df['Season']==i]\n",
    "    score.append(log_loss(temp_df['Hwin'], temp_df['Pred_50'], eps = 1e-15))\n",
    "    score_seed.append(log_loss(temp_df['Hwin'], temp_df['win_rate'], eps = 1e-15))\n",
    "    #print(str(i) + \" Score Improvement: \" +str(round(score - score_seed, 3)*100) + \"% : \" + str(score) + str(score_seed) )\n",
    "    "
   ]
  },
  {
   "cell_type": "code",
   "execution_count": 64,
   "metadata": {},
   "outputs": [
    {
     "data": {
      "image/png": "[encoded data removed]",
      "text/plain": [
       "<Figure size 432x288 with 1 Axes>"
      ]
     },
     "metadata": {
      "needs_background": "light"
     },
     "output_type": "display_data"
    }
   ],
   "source": [
    "fig, ax = plt.subplots()\n",
    "ax.plot(years, score_seed, label = \"Seed Differential\")\n",
    "ax.plot(years, score, '--', label = \"50/50\")\n",
    "\n",
    "plt.title('LogLoss Scores for last 10 years')\n",
    "plt.ylabel('LogLoss')\n",
    "plt.xlabel('year')\n",
    "plt.legend(loc=\"best\")\n",
    "plt.show()"
   ]
  },
  {
   "cell_type": "markdown",
   "metadata": {},
   "source": [
    "# Using our classifier to create a better model?\n"
   ]
  },
  {
   "cell_type": "code",
   "execution_count": null,
   "metadata": {},
   "outputs": [],
   "source": []
  },
  {
   "cell_type": "markdown",
   "metadata": {},
   "source": [
    "# Output File"
   ]
  },
  {
   "cell_type": "code",
   "execution_count": 21,
   "metadata": {},
   "outputs": [
    {
     "data": {
      "text/plain": [
       "array([1181, 1277, 1261, 1439, 1280, 1268, 1257, 1433, 1416, 1278, 1125,\n",
       "       1396, 1251, 1387, 1463, 1133, 1295, 1300, 1211, 1276, 1403, 1199,\n",
       "       1266, 1138, 1305, 1393, 1124, 1196, 1113, 1385, 1293, 1436, 1297,\n",
       "       1285, 1192, 1341, 1314, 1246, 1222, 1242, 1120, 1235, 1459, 1429,\n",
       "       1449, 1371, 1326, 1308, 1318, 1209, 1101, 1233, 1438, 1397, 1345,\n",
       "       1243, 1458, 1437, 1153, 1279, 1328, 1234, 1388, 1332, 1414, 1330,\n",
       "       1159, 1205], dtype=int64)"
      ]
     },
     "execution_count": 21,
     "metadata": {},
     "output_type": "execute_result"
    }
   ],
   "source": [
    "# create our team list\n",
    "\n",
    "teams_2019 = df_Seeds[df_Seeds['Season']==2019]['TeamID'].values\n",
    "teams_2019"
   ]
  },
  {
   "cell_type": "code",
   "execution_count": 22,
   "metadata": {},
   "outputs": [],
   "source": [
    "# create matchup matrix of all teams.\n",
    "\n",
    "def output_matrix(teams, year):\n",
    "    '''\n",
    "    takes in an array of teams that are participating in the tournament in the specified year.\n",
    "    \n",
    "    returns our prediction using the kaggle submission format with higher seeded team first and 0.5 probability.\n",
    "    \n",
    "    '''\n",
    "    output = []\n",
    "    comb = combinations(teams, 2)\n",
    "    for i in list(comb):\n",
    "        output.append([return_higher_seed(i[0], i[1], year), 0.5])\n",
    "    return (output)"
   ]
  },
  {
   "cell_type": "code",
   "execution_count": 23,
   "metadata": {},
   "outputs": [],
   "source": [
    "# determine higher seed\n",
    "def return_higher_seed(TeamID1, TeamID2, year):\n",
    "    '''\n",
    "    takes in 2 teams, and the season (year) in which they are being compared\n",
    "    \n",
    "    returns in string format (year_team1_team2) where team1 is the higher seeded team\n",
    "    '''\n",
    "    \n",
    "    seed1 = df_Seeds.loc[(df_Seeds['Season']==year) & (df_Seeds['TeamID']==TeamID1)]['SeedInt'].values[0]\n",
    "    seed2 = df_Seeds.loc[(df_Seeds['Season']==year) & (df_Seeds['TeamID']==TeamID2)]['SeedInt'].values[0]\n",
    "    if seed1 >= seed2:\n",
    "        return (str(year) + \"_\" + str(TeamID1) + \"_\" + str(TeamID2))\n",
    "    else:\n",
    "        return (str(year) + \"_\" + str(TeamID2) + \"_\" +  str(TeamID1))"
   ]
  },
  {
   "cell_type": "code",
   "execution_count": 24,
   "metadata": {},
   "outputs": [],
   "source": [
    "output_2019 = output_matrix(teams_2019, 2019)\n"
   ]
  },
  {
   "cell_type": "code",
   "execution_count": null,
   "metadata": {},
   "outputs": [],
   "source": []
  }
 ],
 "metadata": {
  "kernelspec": {
   "display_name": "Python 3",
   "language": "python",
   "name": "python3"
  },
  "language_info": {
   "codemirror_mode": {
    "name": "ipython",
    "version": 3
   },
   "file_extension": ".py",
   "mimetype": "text/x-python",
   "name": "python",
   "nbconvert_exporter": "python",
   "pygments_lexer": "ipython3",
   "version": "3.7.3"
  }
 },
 "nbformat": 4,
 "nbformat_minor": 2
}
